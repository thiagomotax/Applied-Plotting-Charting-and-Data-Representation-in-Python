{
  "nbformat": 4,
  "nbformat_minor": 0,
  "metadata": {
    "accelerator": "GPU",
    "colab": {
      "name": "Deep learning mypersonality_tcc",
      "provenance": [],
      "collapsed_sections": [],
      "mount_file_id": "1kIhY6Nsn_jhnl5l78f7kokGbYiyzuzh0",
      "authorship_tag": "ABX9TyMXGxJLATLLyt9HQzPOOGpc",
      "include_colab_link": true
    },
    "kernelspec": {
      "display_name": "Python 3",
      "name": "python3"
    }
  },
  "cells": [
    {
      "cell_type": "markdown",
      "metadata": {
        "id": "view-in-github",
        "colab_type": "text"
      },
      "source": [
        "<a href=\"https://colab.research.google.com/github/thiagomotax/Applied-Plotting-Charting-and-Data-Representation-in-Python/blob/master/Deep_learning_mypersonality_tcc.ipynb\" target=\"_parent\"><img src=\"https://colab.research.google.com/assets/colab-badge.svg\" alt=\"Open In Colab\"/></a>"
      ]
    },
    {
      "cell_type": "markdown",
      "metadata": {
        "id": "m7bL4Fiu3V4D"
      },
      "source": [
        ""
      ]
    },
    {
      "cell_type": "markdown",
      "metadata": {
        "id": "R42ycfM0eeoI"
      },
      "source": [
        "\n",
        "\n",
        "*   Tentar equalizar a proporção de ocorrencia de cada label no dataset(balancear)\n",
        "*   Tunar hiperparâmetros\n",
        "*   Word cloud/similarity\n",
        "*   Tentar usar pré-processamento do texto de várias bibliotecas (spacy, nltk, sklearn etc) para limpeza do texto (remover filters do keras tokenizer)\n",
        "*   Salvar modelo ao finalizar\n",
        "*   Tentar o dataset antigo usando data augmentation/data summarization\n",
        "*   Tentar adicionar features no modelo (as que vem do dataset) pra ver se tem corelação com os traços\n",
        "* Oversampling e undersimpling pra balancear os dados  imbalanced_learn that include SMOTE \n",
        "*   Verificar métricas pra multilabel/auc/recall/precision/matrix confusion \n",
        "*   Ver como o treino e a  validação estão sendo divididos e se estão sendo efetivamente usados\n",
        "*  Tentar usar word embbeddings\n",
        "*  Falar sobre a ativação, optimizer adm e binary crossentropy etc\n",
        "*  https://www.kaggle.com/mutterberg/for-beginners-tackling-toxic-using-keras"
      ]
    },
    {
      "cell_type": "code",
      "metadata": {
        "colab": {
          "base_uri": "https://localhost:8080/"
        },
        "id": "6fYFX0edwixu",
        "outputId": "80ea586c-83ca-405a-9a68-d95380a1fab5"
      },
      "source": [
        "%tensorflow_version 1.x"
      ],
      "execution_count": 1,
      "outputs": [
        {
          "output_type": "stream",
          "text": [
            "TensorFlow 1.x selected.\n"
          ],
          "name": "stdout"
        }
      ]
    },
    {
      "cell_type": "code",
      "metadata": {
        "id": "Z21PAHJAgALN",
        "colab": {
          "base_uri": "https://localhost:8080/"
        },
        "outputId": "72710181-1ead-4225-81bb-3cd1deffe9ea"
      },
      "source": [
        "import sys, os, re, csv, codecs, numpy as np, pandas as pd\n",
        "import matplotlib.pyplot as plt\n",
        "%matplotlib inline\n",
        "from keras.preprocessing.text import Tokenizer\n",
        "from keras.preprocessing.sequence import pad_sequences\n",
        "from keras.layers import Dense, Input, LSTM, Embedding, Dropout, Activation\n",
        "from keras.layers import Bidirectional, GlobalMaxPool1D\n",
        "from keras.models import Model\n",
        "from keras import initializers, regularizers, constraints, optimizers, layers"
      ],
      "execution_count": 2,
      "outputs": [
        {
          "output_type": "stream",
          "text": [
            "Using TensorFlow backend.\n"
          ],
          "name": "stderr"
        }
      ]
    },
    {
      "cell_type": "code",
      "metadata": {
        "colab": {
          "base_uri": "https://localhost:8080/"
        },
        "id": "DwcQJDWIjomP",
        "outputId": "58a3a736-85a1-4f4c-fd72-e0136ba46436"
      },
      "source": [
        "# train = pd.read_csv('/content/drive/My Drive/tcc/datasets/mypersonality/train.csv')\n",
        "# test = pd.read_csv('/content/drive/My Drive/tcc/datasets/mypersonality/test.csv')\n",
        "pd.set_option('display.max_rows', None)\n",
        "pd.set_option('display.max_colwidth', -1)\n",
        "\n",
        "\n",
        "df = pd.read_csv('/content/drive/My Drive/tcc/datasets/mypersonality/mypersonality_final.csv', encoding=\"ISO-8859-1\")\n",
        "df = df.drop(['#AUTHID',  'sEXT', 'sNEU', 'sAGR', 'sCON', 'sOPN', 'DATE', 'NETWORKSIZE', 'BETWEENNESS', 'NBETWEENNESS','DENSITY','BROKERAGE','NBROKERAGE','TRANSITIVITY'], axis = 1) \n",
        "df.cNEU.replace(to_replace=['n', 'y'], value=[0, 1], inplace=True)\n",
        "df.cEXT.replace(to_replace=['n', 'y'], value=[0, 1], inplace=True)\n",
        "df.cAGR.replace(to_replace=['n', 'y'], value=[0, 1], inplace=True)\n",
        "df.cCON.replace(to_replace=['n', 'y'], value=[0, 1], inplace=True)\n",
        "df.cOPN.replace(to_replace=['n', 'y'], value=[0, 1], inplace=True)"
      ],
      "execution_count": 3,
      "outputs": [
        {
          "output_type": "stream",
          "text": [
            "/usr/local/lib/python3.6/dist-packages/ipykernel_launcher.py:4: FutureWarning: Passing a negative integer is deprecated in version 1.0 and will not be supported in future version. Instead, use None to not limit the column width.\n",
            "  after removing the cwd from sys.path.\n"
          ],
          "name": "stderr"
        }
      ]
    },
    {
      "cell_type": "code",
      "metadata": {
        "colab": {
          "base_uri": "https://localhost:8080/"
        },
        "id": "56VRHT9-Nabh",
        "outputId": "ba40c16c-dd8e-495c-8ff5-1e0fa8c3e4b5"
      },
      "source": [
        "#PRE-PROCCESS\n",
        "#preproccess\n",
        "import nltk\n",
        "import string\n",
        "nltk.download('stopwords')\n",
        "from nltk.corpus import stopwords\n",
        "stop = stopwords.words('english')\n",
        "newStopWords = ['propname', 'im', 'propnames' '1', '2', '3', '4', '5', '6', '7', '8', '9']\n",
        "stop.extend(newStopWords)\n",
        "\n",
        "\n",
        "df['STATUS'] = df['STATUS'].str.lower() #lowercase\n",
        "df['STATUS'] = df['STATUS'].str.replace('[{}]'.format(string.punctuation), '') #pontuaction\n",
        "df['STATUS'] = df['STATUS'].str.replace(r'\\d+','') #num eros\n",
        "df['STATUS'] = df['STATUS'].str.replace(' +', ' ') #this should replace all multiple spaces with a single space\n",
        "df['STATUS'] = df['STATUS'].str.strip() #remove all spaces from the start and end\n",
        "df['STATUS'] = df['STATUS'].apply(lambda x: ' '.join([item for item in x.split() if item not in stop])) #stopwords\n",
        "\n",
        "# df['STATUS'] = [x.replace(\"propnames\", \"\") for x in df['STATUS']]\n",
        "# df['STATUS'] = [x.replace(\"propname\", \"\") for x in df['STATUS']]\n",
        "\n",
        "df.replace(\"\", np.nan, inplace=True) #empty lines to nan\n",
        "df.dropna(how='any', inplace=True) #remove nan\n",
        "\n",
        "#remover links\n",
        "#remove empty registers\n",
        "#minúscula\n",
        "#acentuação / símbolos\n",
        "#números\n",
        "#stop_words"
      ],
      "execution_count": 4,
      "outputs": [
        {
          "output_type": "stream",
          "text": [
            "[nltk_data] Downloading package stopwords to /root/nltk_data...\n",
            "[nltk_data]   Unzipping corpora/stopwords.zip.\n"
          ],
          "name": "stdout"
        }
      ]
    },
    {
      "cell_type": "code",
      "metadata": {
        "id": "cNiRWXpdM8Ai"
      },
      "source": [
        "#prepara a entrada pro EDA\n",
        "label_cols = [\"cEXT\",\"cNEU\",\"cAGR\",\"cCON\",\"cOPN\"]\n",
        "# df_text_traits['one_hot_labels'] = list(df_text_traits[label_cols].values)\n",
        "df['one_hot_labels'] = df['cEXT'].map(str) + df['cNEU'].map(str) + df['cAGR'].map(str) + df['cCON'].map(str) + df['cOPN'].map(str)\n",
        "df = df.drop([\"cEXT\",\"cNEU\",\"cAGR\",\"cCON\",\"cOPN\"], axis=1)\n",
        "frame = df[['one_hot_labels', 'STATUS']]\n",
        "frame.to_csv('input_mypersonalityEDA.txt', header=False, index=False, sep='\\t', mode='a')\n",
        "#processa no pc local "
      ],
      "execution_count": 5,
      "outputs": []
    },
    {
      "cell_type": "code",
      "metadata": {
        "id": "VYzHQxpoOBvA"
      },
      "source": [
        "#recebe a entrada processada pelo EDA\n",
        "import re\n",
        "new_df = pd.read_csv('/content/output_mypersonalityEDA.txt', names=['content'], sep=\"\\f\", header=None)\n",
        "rows_list = []\n",
        "for index, row in new_df.iterrows():\n",
        "  props = re.split(r'\\t+', row['content'])\n",
        "  cEXT = props[0][0]\n",
        "  cNEU = props[0][1]\n",
        "  cAGR = props[0][2]\n",
        "  cCON = props[0][3]\n",
        "  cOPN = props[0][4]\n",
        "  STATUS = props[1]\n",
        "  dataTemp = {}\n",
        "  dataTemp.update({'cEXT':cEXT, 'cNEU':cNEU, 'cAGR':cAGR, 'cCON':cCON, 'cOPN':cOPN, 'STATUS':STATUS})\n",
        "  rows_list.append(dataTemp)\n",
        "\n",
        "df = pd.DataFrame(rows_list, columns=[\"cEXT\",\"cNEU\",\"cAGR\",\"cCON\",\"cOPN\", \"STATUS\"])"
      ],
      "execution_count": 6,
      "outputs": []
    },
    {
      "cell_type": "code",
      "metadata": {
        "id": "BiVtb4XIn6cB"
      },
      "source": [
        "df.STATUS = df.STATUS.astype(str)"
      ],
      "execution_count": 7,
      "outputs": []
    },
    {
      "cell_type": "code",
      "metadata": {
        "id": "lsqG6Upc5rO3"
      },
      "source": [
        "#df.STATUS"
      ],
      "execution_count": null,
      "outputs": []
    },
    {
      "cell_type": "code",
      "metadata": {
        "id": "oLqNvAlkstek"
      },
      "source": [
        "#df.info()\n"
      ],
      "execution_count": null,
      "outputs": []
    },
    {
      "cell_type": "code",
      "metadata": {
        "id": "vJ-gbCwNmA4k"
      },
      "source": [
        "from sklearn.model_selection import train_test_split\n",
        "list_classes = [\"cEXT\",\"cNEU\",\"cAGR\",\"cCON\",\"cOPN\"]\n",
        "train, test = train_test_split(df, random_state=42, test_size=0.10, shuffle=True)\n",
        "\n",
        "list_sentences_train = train.STATUS\n",
        "list_sentences_test = test.STATUS\n",
        "\n",
        "y_train = train[list_classes].values\n",
        "y_test = test[list_classes].values"
      ],
      "execution_count": 9,
      "outputs": []
    },
    {
      "cell_type": "code",
      "metadata": {
        "id": "wFlMnREAmNdB"
      },
      "source": [
        "max_features = 5000 \n",
        "#By default, all punctuation is removed, turning the texts into space-separated sequences of words\n",
        "\n",
        "tokenizer = Tokenizer(num_words=max_features, lower=True, filters='') #Only the most common num_words-1 will kept \n",
        "tokenizer.fit_on_texts(list(list_sentences_train))\n",
        "\n",
        "list_tokenized_train = tokenizer.texts_to_sequences(list_sentences_train)\n",
        "list_tokenized_test = tokenizer.texts_to_sequences(list_sentences_test)"
      ],
      "execution_count": 10,
      "outputs": []
    },
    {
      "cell_type": "code",
      "metadata": {
        "id": "V_EqK-NqmQfu"
      },
      "source": [
        "# What if some comments are terribly long, while some are just 1 word? Wouldn't our indexed-sentence look like this:\n",
        "# Comment #1: [8,9,3,7,3,6,3,6,3,6,2,3,4,9]\n",
        "# Comment #2: [1,2]\n",
        "maxlen = 20\n",
        "X_train = pad_sequences(list_tokenized_train, maxlen=maxlen)\n",
        "X_test = pad_sequences(list_tokenized_test, maxlen=maxlen)\n"
      ],
      "execution_count": 11,
      "outputs": []
    },
    {
      "cell_type": "code",
      "metadata": {
        "id": "uqb7Poc-ky0w"
      },
      "source": [
        "import numpy as np\r\n",
        "import gc"
      ],
      "execution_count": 12,
      "outputs": []
    },
    {
      "cell_type": "code",
      "metadata": {
        "id": "lr2uAaaeky3W"
      },
      "source": [
        "def loadEmbeddingMatrix(typeToLoad):\r\n",
        "        #load different embedding file from Kaggle depending on which embedding \r\n",
        "        #matrix we are going to experiment with\r\n",
        "        if(typeToLoad==\"glove\"):\r\n",
        "            EMBEDDING_FILE='/content/drive/MyDrive/tcc/glove.6B.200d.txt'\r\n",
        "            embed_size = 200\r\n",
        "        elif(typeToLoad==\"word2vec\"):\r\n",
        "            word2vecDict = word2vec.KeyedVectors.load_word2vec_format(\"../input/googlenewsvectorsnegative300/GoogleNews-vectors-negative300.bin\", binary=True)\r\n",
        "            embed_size = 300\r\n",
        "        elif(typeToLoad==\"fasttext\"):\r\n",
        "            EMBEDDING_FILE='../input/fasttext/wiki.simple.vec'\r\n",
        "            embed_size = 300\r\n",
        "\r\n",
        "        if(typeToLoad==\"glove\" or typeToLoad==\"fasttext\" ):\r\n",
        "            embeddings_index = dict()\r\n",
        "            #Transfer the embedding weights into a dictionary by iterating through every line of the file.\r\n",
        "            f = open(EMBEDDING_FILE)\r\n",
        "            for line in f:\r\n",
        "                #split up line into an indexed array\r\n",
        "                values = line.split()\r\n",
        "                #first index is word\r\n",
        "                word = values[0]\r\n",
        "                #store the rest of the values in the array as a new array\r\n",
        "                coefs = np.asarray(values[1:], dtype='float32')\r\n",
        "                embeddings_index[word] = coefs #50 dimensions\r\n",
        "            f.close()\r\n",
        "            print('Loaded %s word vectors.' % len(embeddings_index))\r\n",
        "        else:\r\n",
        "            embeddings_index = dict()\r\n",
        "            for word in word2vecDict.wv.vocab:\r\n",
        "                embeddings_index[word] = word2vecDict.word_vec(word)\r\n",
        "            print('Loaded %s word vectors.' % len(embeddings_index))\r\n",
        "            \r\n",
        "        gc.collect()\r\n",
        "        #We get the mean and standard deviation of the embedding weights so that we could maintain the \r\n",
        "        #same statistics for the rest of our own random generated weights. \r\n",
        "        all_embs = np.stack(list(embeddings_index.values()))\r\n",
        "        emb_mean,emb_std = all_embs.mean(), all_embs.std()\r\n",
        "        \r\n",
        "        nb_words = len(tokenizer.word_index)\r\n",
        "        #We are going to set the embedding size to the pretrained dimension as we are replicating it.\r\n",
        "        #the size will be Number of Words in Vocab X Embedding Size\r\n",
        "        embedding_matrix = np.random.normal(emb_mean, emb_std, (nb_words, embed_size))\r\n",
        "        gc.collect()\r\n",
        "\r\n",
        "        #With the newly created embedding matrix, we'll fill it up with the words that we have in both \r\n",
        "        #our own dictionary and loaded pretrained embedding. \r\n",
        "        embeddedCount = 0\r\n",
        "        for word, i in tokenizer.word_index.items():\r\n",
        "            i-=1\r\n",
        "            #then we see if this word is in glove's dictionary, if yes, get the corresponding weights\r\n",
        "            embedding_vector = embeddings_index.get(word)\r\n",
        "            #and store inside the embedding matrix that we will train later on.\r\n",
        "            if embedding_vector is not None: \r\n",
        "                embedding_matrix[i] = embedding_vector\r\n",
        "                embeddedCount+=1\r\n",
        "        print('total embedded:',embeddedCount,'common words')\r\n",
        "        \r\n",
        "        del(embeddings_index)\r\n",
        "        gc.collect()\r\n",
        "        \r\n",
        "        #finally, return the embedding matrix\r\n",
        "        return embedding_matrix"
      ],
      "execution_count": 13,
      "outputs": []
    },
    {
      "cell_type": "code",
      "metadata": {
        "colab": {
          "base_uri": "https://localhost:8080/"
        },
        "id": "Te_lKzLtky6N",
        "outputId": "62ff5c81-161b-4455-83fd-36fb524287f5"
      },
      "source": [
        "embedding_matrix = loadEmbeddingMatrix('glove')\r\n"
      ],
      "execution_count": 14,
      "outputs": [
        {
          "output_type": "stream",
          "text": [
            "Loaded 400000 word vectors.\n",
            "total embedded: 15738 common words\n"
          ],
          "name": "stdout"
        }
      ]
    },
    {
      "cell_type": "code",
      "metadata": {
        "colab": {
          "base_uri": "https://localhost:8080/"
        },
        "id": "G-1WHt7fky8z",
        "outputId": "e625265f-5bf2-429a-d81f-0a03ff1ceddc"
      },
      "source": [
        "embedding_matrix.shape\r\n"
      ],
      "execution_count": 15,
      "outputs": [
        {
          "output_type": "execute_result",
          "data": {
            "text/plain": [
              "(19720, 200)"
            ]
          },
          "metadata": {
            "tags": []
          },
          "execution_count": 15
        }
      ]
    },
    {
      "cell_type": "code",
      "metadata": {
        "id": "p61swCR6mVty"
      },
      "source": [
        "#We begin our defining an   \n",
        "inp = Input(shape=(maxlen, )) #maxlen=200 as defined earlier"
      ],
      "execution_count": 16,
      "outputs": []
    },
    {
      "cell_type": "code",
      "metadata": {
        "colab": {
          "base_uri": "https://localhost:8080/"
        },
        "id": "YlXR-ZOpne1_",
        "outputId": "d6b74201-f8c2-4ad3-9e9e-6031b2d66c76"
      },
      "source": [
        "#default comented\n",
        "#embed_size = 128\n",
        "#x = Embedding(max_features, embed_size)(inp)\n",
        "\n",
        "x = Embedding(len(tokenizer.word_index), embedding_matrix.shape[1],weights=[embedding_matrix],trainable=False)(inp)"
      ],
      "execution_count": 17,
      "outputs": [
        {
          "output_type": "stream",
          "text": [
            "WARNING:tensorflow:From /tensorflow-1.15.2/python3.6/tensorflow_core/python/ops/resource_variable_ops.py:1630: calling BaseResourceVariable.__init__ (from tensorflow.python.ops.resource_variable_ops) with constraint is deprecated and will be removed in a future version.\n",
            "Instructions for updating:\n",
            "If using Keras pass *_constraint arguments to layers.\n"
          ],
          "name": "stdout"
        }
      ]
    },
    {
      "cell_type": "code",
      "metadata": {
        "colab": {
          "base_uri": "https://localhost:8080/"
        },
        "id": "Rhz3QiLkrNhG",
        "outputId": "93f3fce1-676e-4ea4-b332-b664a2b42be3"
      },
      "source": [
        "import keras\n",
        "import tensorflow as tf\n",
        "from keras.callbacks import EarlyStopping\n",
        "\n",
        "#default\n",
        "#x = LSTM(60, return_sequences=True,name='lstm_layer')(x)\n",
        "x = Bidirectional(LSTM(60, return_sequences=True,name='lstm_layer',dropout=0.1,recurrent_dropout=0.1))(x)\n",
        "\n",
        "x = GlobalMaxPool1D()(x)\n",
        "\n",
        "\n",
        "\n",
        "x = Dropout(0.2)(x)\n",
        "x = Dense(50, activation=\"relu\")(x)\n",
        "x = Dropout(0.2)(x)\n",
        "x = Dense(50, activation=\"relu\")(x)\n",
        "x = Dropout(0.2)(x)\n",
        "x = Dense(50, activation=\"relu\")(x)\n",
        "x = Dropout(0.2)(x)\n",
        "x = Dense(50, activation=\"relu\")(x)\n",
        "x = Dropout(0.2)(x)\n",
        "\n",
        "# - 1 ou +1 (4)\n",
        "x = Dense(5, activation=\"sigmoid\")(x)\n",
        "\n",
        "# es = EarlyStopping(monitor='val_loss', mode='min', verbose=1, patience=50)\n",
        "\n",
        "\n",
        "model = Model(inputs=inp, outputs=x)\n",
        "model.compile(loss='binary_crossentropy',\n",
        "                  optimizer='adam',\n",
        "                  metrics=['accuracy', tf.keras.metrics.Precision(), tf.keras.metrics.AUC(), tf.keras.metrics.Recall()])"
      ],
      "execution_count": 18,
      "outputs": [
        {
          "output_type": "stream",
          "text": [
            "WARNING:tensorflow:From /tensorflow-1.15.2/python3.6/tensorflow_core/python/ops/nn_impl.py:183: where (from tensorflow.python.ops.array_ops) is deprecated and will be removed in a future version.\n",
            "Instructions for updating:\n",
            "Use tf.where in 2.0, which has the same broadcast rule as np.where\n"
          ],
          "name": "stdout"
        }
      ]
    },
    {
      "cell_type": "code",
      "metadata": {
        "id": "redGqN3MrP1g",
        "colab": {
          "base_uri": "https://localhost:8080/",
          "height": 393
        },
        "outputId": "76d143b4-0d0f-4cd8-de06-9cc80f4f10f3"
      },
      "source": [
        "from keras.callbacks import ModelCheckpoint\n",
        "\n",
        "#filepath=\"weights-improvement-{epoch:02d}-{val_accuracy:.2f}.hdf5\"\n",
        "#ModelCheckpoint(filepath, monitor='val_accuracy', verbose=1, save_best_only=True, mode='max')\n",
        "batch_size = 32 #refere-se ao número de exemplos de treinamento usados em uma iteração.\n",
        "epochs = 500\n",
        "history = model.fit(\n",
        "    X_train,y_train, batch_size=batch_size, epochs=epochs, validation_split=0.15\n",
        "    )\n"
      ],
      "execution_count": 33,
      "outputs": [
        {
          "output_type": "stream",
          "text": [
            "Train on 37725 samples, validate on 6658 samples\n",
            "Epoch 1/500\n",
            " 5856/37725 [===>..........................] - ETA: 31s - loss: 0.3456 - accuracy: 0.8409 - precision: 0.8337 - auc: 0.9101 - recall: 0.8055"
          ],
          "name": "stdout"
        },
        {
          "output_type": "error",
          "ename": "KeyboardInterrupt",
          "evalue": "ignored",
          "traceback": [
            "\u001b[0;31m---------------------------------------------------------------------------\u001b[0m",
            "\u001b[0;31mKeyboardInterrupt\u001b[0m                         Traceback (most recent call last)",
            "\u001b[0;32m<ipython-input-33-c77acfd15529>\u001b[0m in \u001b[0;36m<module>\u001b[0;34m()\u001b[0m\n\u001b[1;32m      6\u001b[0m \u001b[0mepochs\u001b[0m \u001b[0;34m=\u001b[0m \u001b[0;36m500\u001b[0m\u001b[0;34m\u001b[0m\u001b[0;34m\u001b[0m\u001b[0m\n\u001b[1;32m      7\u001b[0m history = model.fit(\n\u001b[0;32m----> 8\u001b[0;31m     \u001b[0mX_train\u001b[0m\u001b[0;34m,\u001b[0m\u001b[0my_train\u001b[0m\u001b[0;34m,\u001b[0m \u001b[0mbatch_size\u001b[0m\u001b[0;34m=\u001b[0m\u001b[0mbatch_size\u001b[0m\u001b[0;34m,\u001b[0m \u001b[0mepochs\u001b[0m\u001b[0;34m=\u001b[0m\u001b[0mepochs\u001b[0m\u001b[0;34m,\u001b[0m \u001b[0mvalidation_split\u001b[0m\u001b[0;34m=\u001b[0m\u001b[0;36m0.15\u001b[0m\u001b[0;34m,\u001b[0m \u001b[0mclass_weight\u001b[0m\u001b[0;34m=\u001b[0m\u001b[0;34m'ba2lanced'\u001b[0m\u001b[0;34m,\u001b[0m\u001b[0;34m\u001b[0m\u001b[0;34m\u001b[0m\u001b[0m\n\u001b[0m\u001b[1;32m      9\u001b[0m     )\n",
            "\u001b[0;32m/tensorflow-1.15.2/python3.6/keras/engine/training.py\u001b[0m in \u001b[0;36mfit\u001b[0;34m(self, x, y, batch_size, epochs, verbose, callbacks, validation_split, validation_data, shuffle, class_weight, sample_weight, initial_epoch, steps_per_epoch, validation_steps, validation_freq, max_queue_size, workers, use_multiprocessing, **kwargs)\u001b[0m\n\u001b[1;32m   1237\u001b[0m                                         \u001b[0msteps_per_epoch\u001b[0m\u001b[0;34m=\u001b[0m\u001b[0msteps_per_epoch\u001b[0m\u001b[0;34m,\u001b[0m\u001b[0;34m\u001b[0m\u001b[0;34m\u001b[0m\u001b[0m\n\u001b[1;32m   1238\u001b[0m                                         \u001b[0mvalidation_steps\u001b[0m\u001b[0;34m=\u001b[0m\u001b[0mvalidation_steps\u001b[0m\u001b[0;34m,\u001b[0m\u001b[0;34m\u001b[0m\u001b[0;34m\u001b[0m\u001b[0m\n\u001b[0;32m-> 1239\u001b[0;31m                                         validation_freq=validation_freq)\n\u001b[0m\u001b[1;32m   1240\u001b[0m \u001b[0;34m\u001b[0m\u001b[0m\n\u001b[1;32m   1241\u001b[0m     def evaluate(self,\n",
            "\u001b[0;32m/tensorflow-1.15.2/python3.6/keras/engine/training_arrays.py\u001b[0m in \u001b[0;36mfit_loop\u001b[0;34m(model, fit_function, fit_inputs, out_labels, batch_size, epochs, verbose, callbacks, val_function, val_inputs, shuffle, initial_epoch, steps_per_epoch, validation_steps, validation_freq)\u001b[0m\n\u001b[1;32m    194\u001b[0m                     \u001b[0mins_batch\u001b[0m\u001b[0;34m[\u001b[0m\u001b[0mi\u001b[0m\u001b[0;34m]\u001b[0m \u001b[0;34m=\u001b[0m \u001b[0mins_batch\u001b[0m\u001b[0;34m[\u001b[0m\u001b[0mi\u001b[0m\u001b[0;34m]\u001b[0m\u001b[0;34m.\u001b[0m\u001b[0mtoarray\u001b[0m\u001b[0;34m(\u001b[0m\u001b[0;34m)\u001b[0m\u001b[0;34m\u001b[0m\u001b[0;34m\u001b[0m\u001b[0m\n\u001b[1;32m    195\u001b[0m \u001b[0;34m\u001b[0m\u001b[0m\n\u001b[0;32m--> 196\u001b[0;31m                 \u001b[0mouts\u001b[0m \u001b[0;34m=\u001b[0m \u001b[0mfit_function\u001b[0m\u001b[0;34m(\u001b[0m\u001b[0mins_batch\u001b[0m\u001b[0;34m)\u001b[0m\u001b[0;34m\u001b[0m\u001b[0;34m\u001b[0m\u001b[0m\n\u001b[0m\u001b[1;32m    197\u001b[0m                 \u001b[0mouts\u001b[0m \u001b[0;34m=\u001b[0m \u001b[0mto_list\u001b[0m\u001b[0;34m(\u001b[0m\u001b[0mouts\u001b[0m\u001b[0;34m)\u001b[0m\u001b[0;34m\u001b[0m\u001b[0;34m\u001b[0m\u001b[0m\n\u001b[1;32m    198\u001b[0m                 \u001b[0;32mfor\u001b[0m \u001b[0ml\u001b[0m\u001b[0;34m,\u001b[0m \u001b[0mo\u001b[0m \u001b[0;32min\u001b[0m \u001b[0mzip\u001b[0m\u001b[0;34m(\u001b[0m\u001b[0mout_labels\u001b[0m\u001b[0;34m,\u001b[0m \u001b[0mouts\u001b[0m\u001b[0;34m)\u001b[0m\u001b[0;34m:\u001b[0m\u001b[0;34m\u001b[0m\u001b[0;34m\u001b[0m\u001b[0m\n",
            "\u001b[0;32m/tensorflow-1.15.2/python3.6/tensorflow_core/python/keras/backend.py\u001b[0m in \u001b[0;36m__call__\u001b[0;34m(self, inputs)\u001b[0m\n\u001b[1;32m   3474\u001b[0m \u001b[0;34m\u001b[0m\u001b[0m\n\u001b[1;32m   3475\u001b[0m     fetched = self._callable_fn(*array_vals,\n\u001b[0;32m-> 3476\u001b[0;31m                                 run_metadata=self.run_metadata)\n\u001b[0m\u001b[1;32m   3477\u001b[0m     \u001b[0mself\u001b[0m\u001b[0;34m.\u001b[0m\u001b[0m_call_fetch_callbacks\u001b[0m\u001b[0;34m(\u001b[0m\u001b[0mfetched\u001b[0m\u001b[0;34m[\u001b[0m\u001b[0;34m-\u001b[0m\u001b[0mlen\u001b[0m\u001b[0;34m(\u001b[0m\u001b[0mself\u001b[0m\u001b[0;34m.\u001b[0m\u001b[0m_fetches\u001b[0m\u001b[0;34m)\u001b[0m\u001b[0;34m:\u001b[0m\u001b[0;34m]\u001b[0m\u001b[0;34m)\u001b[0m\u001b[0;34m\u001b[0m\u001b[0;34m\u001b[0m\u001b[0m\n\u001b[1;32m   3478\u001b[0m     output_structure = nest.pack_sequence_as(\n",
            "\u001b[0;32m/tensorflow-1.15.2/python3.6/tensorflow_core/python/client/session.py\u001b[0m in \u001b[0;36m__call__\u001b[0;34m(self, *args, **kwargs)\u001b[0m\n\u001b[1;32m   1470\u001b[0m         ret = tf_session.TF_SessionRunCallable(self._session._session,\n\u001b[1;32m   1471\u001b[0m                                                \u001b[0mself\u001b[0m\u001b[0;34m.\u001b[0m\u001b[0m_handle\u001b[0m\u001b[0;34m,\u001b[0m \u001b[0margs\u001b[0m\u001b[0;34m,\u001b[0m\u001b[0;34m\u001b[0m\u001b[0;34m\u001b[0m\u001b[0m\n\u001b[0;32m-> 1472\u001b[0;31m                                                run_metadata_ptr)\n\u001b[0m\u001b[1;32m   1473\u001b[0m         \u001b[0;32mif\u001b[0m \u001b[0mrun_metadata\u001b[0m\u001b[0;34m:\u001b[0m\u001b[0;34m\u001b[0m\u001b[0;34m\u001b[0m\u001b[0m\n\u001b[1;32m   1474\u001b[0m           \u001b[0mproto_data\u001b[0m \u001b[0;34m=\u001b[0m \u001b[0mtf_session\u001b[0m\u001b[0;34m.\u001b[0m\u001b[0mTF_GetBuffer\u001b[0m\u001b[0;34m(\u001b[0m\u001b[0mrun_metadata_ptr\u001b[0m\u001b[0;34m)\u001b[0m\u001b[0;34m\u001b[0m\u001b[0;34m\u001b[0m\u001b[0m\n",
            "\u001b[0;31mKeyboardInterrupt\u001b[0m: "
          ]
        }
      ]
    },
    {
      "cell_type": "code",
      "metadata": {
        "id": "kbuV2gNCs_6O"
      },
      "source": [
        "y_train"
      ],
      "execution_count": null,
      "outputs": []
    },
    {
      "cell_type": "markdown",
      "metadata": {
        "id": "_RGNUviM2o0J"
      },
      "source": [
        ""
      ]
    },
    {
      "cell_type": "code",
      "metadata": {
        "id": "5tdcVtCiwE8u"
      },
      "source": [
        "'python --version'"
      ],
      "execution_count": null,
      "outputs": []
    },
    {
      "cell_type": "code",
      "metadata": {
        "id": "f413_kX7vXe7"
      },
      "source": [
        "#Um modelo cujas previsões estão 100% erradas tem uma AUC de 0, enquanto um modelo cujas previsões são 100% corretas tem uma AUC de 1."
      ],
      "execution_count": null,
      "outputs": []
    },
    {
      "cell_type": "code",
      "metadata": {
        "id": "Uj2jCIi7kWT7"
      },
      "source": [
        "# score = model.evaluate(X_test, y_test)\n",
        "# print(\"\\n Testing Accuracy:\", score[1])\n",
        "# # print(\"\\n Cat Accuracy:\", score[2])"
      ],
      "execution_count": null,
      "outputs": []
    },
    {
      "cell_type": "code",
      "metadata": {
        "id": "o94yEZPTizyp",
        "colab": {
          "base_uri": "https://localhost:8080/"
        },
        "outputId": "98d4068a-8b2d-4d13-dae2-3e99422e6a22"
      },
      "source": [
        "#word count\r\n",
        "x = sorted((tokenizer.word_index).items(), key=lambda x: x[1], reverse=True)\r\n",
        "x"
      ],
      "execution_count": 26,
      "outputs": [
        {
          "output_type": "execute_result",
          "data": {
            "text/plain": [
              "[('spark', 19720),\n",
              " ('motility', 19719),\n",
              " ('respectable', 19718),\n",
              " ('lei', 19717),\n",
              " ('overjealous', 19716),\n",
              " ('kingmaker', 19715),\n",
              " ('noneffervescent', 19714),\n",
              " ('trolling', 19713),\n",
              " ('limon', 19712),\n",
              " ('bilk', 19711),\n",
              " ('damned', 19710),\n",
              " ('compare', 19709),\n",
              " ('won', 19708),\n",
              " ('endowed', 19707),\n",
              " ('townsfolk', 19706),\n",
              " ('disgust', 19705),\n",
              " ('calfskin', 19704),\n",
              " ('lir', 19703),\n",
              " ('rico', 19702),\n",
              " ('puerto', 19701),\n",
              " ('gainsay', 19700),\n",
              " ('annulus', 19699),\n",
              " ('promenade', 19698),\n",
              " ('pageant', 19697),\n",
              " ('unsubdivided', 19696),\n",
              " ('organised', 19695),\n",
              " ('slacken', 19694),\n",
              " ('misrepresentation', 19693),\n",
              " ('aerate', 19692),\n",
              " ('postponement', 19691),\n",
              " ('reinforced', 19690),\n",
              " ('nonvoluntary', 19689),\n",
              " ('speculation', 19688),\n",
              " ('milan', 19687),\n",
              " ('patronise', 19686),\n",
              " ('rater', 19685),\n",
              " ('grille', 19684),\n",
              " ('intimately', 19683),\n",
              " ('gmt', 19682),\n",
              " ('appreciation', 19681),\n",
              " ('precise', 19680),\n",
              " ('lacking', 19679),\n",
              " ('reposition', 19678),\n",
              " ('cony', 19677),\n",
              " ('prioritise', 19676),\n",
              " ('camomile', 19675),\n",
              " ('glister', 19674),\n",
              " ('volatile', 19673),\n",
              " ('descent', 19672),\n",
              " ('ruination', 19671),\n",
              " ('stealer', 19670),\n",
              " ('travail', 19669),\n",
              " ('mete', 19668),\n",
              " ('cognition', 19667),\n",
              " ('weaponry', 19666),\n",
              " ('clink', 19665),\n",
              " ('favorableness', 19664),\n",
              " ('eruct', 19663),\n",
              " ('tot', 19662),\n",
              " ('verulam', 19661),\n",
              " ('baron', 19660),\n",
              " ('soulfulness', 19659),\n",
              " ('sympathies', 19658),\n",
              " ('readily', 19657),\n",
              " ('writ', 19656),\n",
              " ('alloy', 19655),\n",
              " ('orchid', 19654),\n",
              " ('kibibyte', 19653),\n",
              " ('van', 19652),\n",
              " ('superbia', 19651),\n",
              " ('manor', 19650),\n",
              " ('divinatory', 19649),\n",
              " ('enkindle', 19648),\n",
              " ('flushed', 19647),\n",
              " ('leontyne', 19646),\n",
              " ('piperita', 19645),\n",
              " ('mentha', 19644),\n",
              " ('methanal', 19643),\n",
              " ('hypothesize', 19642),\n",
              " ('matrimonial', 19641),\n",
              " ('conjoin', 19640),\n",
              " ('pipework', 19639),\n",
              " ('rancor', 19638),\n",
              " ('orphic', 19637),\n",
              " ('shamble', 19636),\n",
              " ('escalate', 19635),\n",
              " ('unstimulating', 19634),\n",
              " ('pepo', 19633),\n",
              " ('cucurbita', 19632),\n",
              " ('wracking', 19631),\n",
              " ('indifferent', 19630),\n",
              " ('bloomers', 19629),\n",
              " ('ornament', 19628),\n",
              " ('aggrandizing', 19627),\n",
              " ('dangle', 19626),\n",
              " ('modest', 19625),\n",
              " ('entitle', 19624),\n",
              " ('mute', 19623),\n",
              " ('rapt', 19622),\n",
              " ('hollands', 19621),\n",
              " ('lecherousness', 19620),\n",
              " ('riled', 19619),\n",
              " ('kinsfolk', 19618),\n",
              " ('febrility', 19617),\n",
              " ('trifle', 19616),\n",
              " ('wedge', 19615),\n",
              " ('debutante', 19614),\n",
              " ('unquiet', 19613),\n",
              " ('scots', 19612),\n",
              " ('hectometer', 19611),\n",
              " ('consecrate', 19610),\n",
              " ('painfulness', 19609),\n",
              " ('defect', 19608),\n",
              " ('overpoweringly', 19607),\n",
              " ('axillary', 19606),\n",
              " ('downcast', 19605),\n",
              " ('thrum', 19604),\n",
              " ('contradict', 19603),\n",
              " ('mercurial', 19602),\n",
              " ('mentation', 19601),\n",
              " ('earpiece', 19600),\n",
              " ('medicate', 19599),\n",
              " ('origination', 19598),\n",
              " ('newmarket', 19597),\n",
              " ('jongg', 19596),\n",
              " ('ezed', 19595),\n",
              " ('constitutive', 19594),\n",
              " ('gotterdammerung', 19593),\n",
              " ('clinch', 19592),\n",
              " ('ostracise', 19591),\n",
              " ('prefrontal', 19590),\n",
              " ('prise', 19589),\n",
              " ('ingredient', 19588),\n",
              " ('argentine', 19587),\n",
              " ('sheepherder', 19586),\n",
              " ('askance', 19585),\n",
              " ('attaint', 19584),\n",
              " ('distributor', 19583),\n",
              " ('placard', 19582),\n",
              " ('whip', 19581),\n",
              " ('handling', 19580),\n",
              " ('maurice', 19579),\n",
              " ('promethium', 19578),\n",
              " ('expiry', 19577),\n",
              " ('impermanent', 19576),\n",
              " ('nipponese', 19575),\n",
              " ('hooey', 19574),\n",
              " ('hellenic', 19573),\n",
              " ('lug', 19572),\n",
              " ('installment', 19571),\n",
              " ('napkin', 19570),\n",
              " ('insemination', 19569),\n",
              " ('artificial', 19568),\n",
              " ('belowground', 19567),\n",
              " ('admission', 19566),\n",
              " ('guardianship', 19565),\n",
              " ('jampack', 19564),\n",
              " ('solitudinarian', 19563),\n",
              " ('uncanny', 19562),\n",
              " ('chassis', 19561),\n",
              " ('colloquium', 19560),\n",
              " ('rustle', 19559),\n",
              " ('intellection', 19558),\n",
              " ('engrave', 19557),\n",
              " ('didactics', 19556),\n",
              " ('transonic', 19555),\n",
              " ('sympathize', 19554),\n",
              " ('presume', 19553),\n",
              " ('bargain', 19552),\n",
              " ('bronx', 19551),\n",
              " ('instruction', 19550),\n",
              " ('deterrent', 19549),\n",
              " ('fellowship', 19548),\n",
              " ('quiescence', 19547),\n",
              " ('conglomerate', 19546),\n",
              " ('quondam', 19545),\n",
              " ('separateness', 19544),\n",
              " ('husbandman', 19543),\n",
              " ('rails', 19542),\n",
              " ('unscathed', 19541),\n",
              " ('pilot', 19540),\n",
              " ('sovereign', 19539),\n",
              " ('roach', 19538),\n",
              " ('hurriedness', 19537),\n",
              " ('sealed', 19536),\n",
              " ('unfearing', 19535),\n",
              " ('heedless', 19534),\n",
              " ('jibe', 19533),\n",
              " ('coordinate', 19532),\n",
              " ('alveolar', 19531),\n",
              " ('dab', 19530),\n",
              " ('scorch', 19529),\n",
              " ('vulgaris', 19528),\n",
              " ('citrullus', 19527),\n",
              " ('nonstarter', 19526),\n",
              " ('peel', 19525),\n",
              " ('whine', 19524),\n",
              " ('prairie', 19523),\n",
              " ('chiliad', 19522),\n",
              " ('synthetical', 19521),\n",
              " ('bunko', 19520),\n",
              " ('scram', 19519),\n",
              " ('spasmodic', 19518),\n",
              " ('rascal', 19517),\n",
              " ('flap', 19516),\n",
              " ('demented', 19515),\n",
              " ('tyke', 19514),\n",
              " ('intensity', 19513),\n",
              " ('prop', 19512),\n",
              " ('pricey', 19511),\n",
              " ('reward', 19510),\n",
              " ('goad', 19509),\n",
              " ('gilt', 19508),\n",
              " ('below', 19507),\n",
              " ('befall', 19506),\n",
              " ('pulley', 19505),\n",
              " ('occupant', 19504),\n",
              " ('beggarly', 19503),\n",
              " ('node', 19502),\n",
              " ('sausage', 19501),\n",
              " ('francophil', 19500),\n",
              " ('bushel', 19499),\n",
              " ('oftentimes', 19498),\n",
              " ('confessedly', 19497),\n",
              " ('lumbus', 19496),\n",
              " ('mammalian', 19495),\n",
              " ('tailgate', 19494),\n",
              " ('macabre', 19493),\n",
              " ('odorize', 19492),\n",
              " ('yearling', 19491),\n",
              " ('likable', 19490),\n",
              " ('breakers', 19489),\n",
              " ('suisse', 19488),\n",
              " ('specs', 19487),\n",
              " ('decree', 19486),\n",
              " ('cent', 19485),\n",
              " ('immobilise', 19484),\n",
              " ('raving', 19483),\n",
              " ('woefully', 19482),\n",
              " ('hosiery', 19481),\n",
              " ('electron', 19480),\n",
              " ('infant', 19479),\n",
              " ('sate', 19478),\n",
              " ('filth', 19477),\n",
              " ('attainment', 19476),\n",
              " ('tartar', 19475),\n",
              " ('virtually', 19474),\n",
              " ('outing', 19473),\n",
              " ('screwball', 19472),\n",
              " ('simulator', 19471),\n",
              " ('shooter', 19470),\n",
              " ('rein', 19469),\n",
              " ('sashay', 19468),\n",
              " ('adventuresome', 19467),\n",
              " ('steel', 19466),\n",
              " ('sadden', 19465),\n",
              " ('dire', 19464),\n",
              " ('crosspiece', 19463),\n",
              " ('assuan', 19462),\n",
              " ('soppy', 19461),\n",
              " ('unidentified', 19460),\n",
              " ('felicity', 19459),\n",
              " ('wiretap', 19458),\n",
              " ('convolute', 19457),\n",
              " ('caramelized', 19456),\n",
              " ('repp', 19455),\n",
              " ('pageboy', 19454),\n",
              " ('unaired', 19453),\n",
              " ('haunted', 19452),\n",
              " ('linkage', 19451),\n",
              " ('gene', 19450),\n",
              " ('comprise', 19449),\n",
              " ('gratify', 19448),\n",
              " ('seemliness', 19447),\n",
              " ('northeastward', 19446),\n",
              " ('socialise', 19445),\n",
              " ('feverishness', 19444),\n",
              " ('tempestuousness', 19443),\n",
              " ('revere', 19442),\n",
              " ('inauspicious', 19441),\n",
              " ('incommode', 19440),\n",
              " ('nearest', 19439),\n",
              " ('iraqi', 19438),\n",
              " ('crapulence', 19437),\n",
              " ('dampish', 19436),\n",
              " ('amun', 19435),\n",
              " ('troglodyte', 19434),\n",
              " ('objectionable', 19433),\n",
              " ('rationale', 19432),\n",
              " ('brute', 19431),\n",
              " ('inhabit', 19430),\n",
              " ('marionette', 19429),\n",
              " ('wanton', 19428),\n",
              " ('hosni', 19427),\n",
              " ('inadequacy', 19426),\n",
              " ('thwarted', 19425),\n",
              " ('barrack', 19424),\n",
              " ('residue', 19423),\n",
              " ('federative', 19422),\n",
              " ('jacklight', 19421),\n",
              " ('garner', 19420),\n",
              " ('debauch', 19419),\n",
              " ('depose', 19418),\n",
              " ('dour', 19417),\n",
              " ('nonplus', 19416),\n",
              " ('fretful', 19415),\n",
              " ('expiration', 19414),\n",
              " ('summarise', 19413),\n",
              " ('offender', 19412),\n",
              " ('rippled', 19411),\n",
              " ('hombre', 19410),\n",
              " ('positivistic', 19409),\n",
              " ('frantic', 19408),\n",
              " ('seminal', 19407),\n",
              " ('jurisprudence', 19406),\n",
              " ('forged', 19405),\n",
              " ('footle', 19404),\n",
              " ('springy', 19403),\n",
              " ('conjuring', 19402),\n",
              " ('crystalline', 19401),\n",
              " ('eugene', 19400),\n",
              " ('crenelle', 19399),\n",
              " ('guild', 19398),\n",
              " ('flagitious', 19397),\n",
              " ('hale', 19396),\n",
              " ('coitus', 19395),\n",
              " ('miscarry', 19394),\n",
              " ('besiege', 19393),\n",
              " ('baptistry', 19392),\n",
              " ('grandeur', 19391),\n",
              " ('foeman', 19390),\n",
              " ('dealer', 19389),\n",
              " ('conserve', 19388),\n",
              " ('signified', 19387),\n",
              " ('modality', 19386),\n",
              " ('gens', 19385),\n",
              " ('authorization', 19384),\n",
              " ('minion', 19383),\n",
              " ('memoranda', 19382),\n",
              " ('jockey', 19381),\n",
              " ('disk', 19380),\n",
              " ('dismal', 19379),\n",
              " ('parry', 19378),\n",
              " ('commiseration', 19377),\n",
              " ('baffled', 19376),\n",
              " ('professing', 19375),\n",
              " ('tout', 19374),\n",
              " ('magnanimous', 19373),\n",
              " ('eatery', 19372),\n",
              " ('confining', 19371),\n",
              " ('gentiles', 19370),\n",
              " ('apostle', 19369),\n",
              " ('decimeter', 19368),\n",
              " ('ky', 19367),\n",
              " ('antecedent', 19366),\n",
              " ('raiment', 19365),\n",
              " ('romany', 19364),\n",
              " ('blusher', 19363),\n",
              " ('rationalise', 19362),\n",
              " ('southeastward', 19361),\n",
              " ('velocipede', 19360),\n",
              " ('vane', 19359),\n",
              " ('tridactylus', 19358),\n",
              " ('bradypus', 19357),\n",
              " ('inundate', 19356),\n",
              " ('fanciful', 19355),\n",
              " ('earnings', 19354),\n",
              " ('cyclosis', 19353),\n",
              " ('alexandria', 19352),\n",
              " ('rend', 19351),\n",
              " ('solitaria', 19350),\n",
              " ('pezophaps', 19349),\n",
              " ('tattered', 19348),\n",
              " ('unremitting', 19347),\n",
              " ('bungle', 19346),\n",
              " ('harden', 19345),\n",
              " ('kthxbi', 19344),\n",
              " ('slit', 19343),\n",
              " ('wander', 19342),\n",
              " ('lambaste', 19341),\n",
              " ('maam', 19340),\n",
              " ('aimed', 19339),\n",
              " ('divert', 19338),\n",
              " ('gibe', 19337),\n",
              " ('rash', 19336),\n",
              " ('virago', 19335),\n",
              " ('gaea', 19334),\n",
              " ('appurtenance', 19333),\n",
              " ('goldbricking', 19332),\n",
              " ('unvanquishable', 19331),\n",
              " ('ralegh', 19330),\n",
              " ('infarct', 19329),\n",
              " ('donna', 19328),\n",
              " ('rightful', 19327),\n",
              " ('pencil', 19326),\n",
              " ('unfavorable', 19325),\n",
              " ('agile', 19324),\n",
              " ('stall', 19323),\n",
              " ('chatter', 19322),\n",
              " ('spate', 19321),\n",
              " ('imprecate', 19320),\n",
              " ('tent', 19319),\n",
              " ('encounter', 19318),\n",
              " ('daemon', 19317),\n",
              " ('admonisher', 19316),\n",
              " ('quibble', 19315),\n",
              " ('hysterectomy', 19314),\n",
              " ('quantity', 19313),\n",
              " ('colligate', 19312),\n",
              " ('racket', 19311),\n",
              " ('pulverization', 19310),\n",
              " ('lurch', 19309),\n",
              " ('solarise', 19308),\n",
              " ('habitation', 19307),\n",
              " ('underscore', 19306),\n",
              " ('chromium', 19305),\n",
              " ('blip', 19304),\n",
              " ('psychiatric', 19303),\n",
              " ('recoup', 19302),\n",
              " ('goods', 19301),\n",
              " ('reversion', 19300),\n",
              " ('humourous', 19299),\n",
              " ('decoration', 19298),\n",
              " ('declamatory', 19297),\n",
              " ('grayback', 19296),\n",
              " ('johnny', 19295),\n",
              " ('pieplant', 19294),\n",
              " ('unmarried', 19293),\n",
              " ('captive', 19292),\n",
              " ('restful', 19291),\n",
              " ('hipster', 19290),\n",
              " ('mettlesome', 19289),\n",
              " ('distinctly', 19288),\n",
              " ('disturb', 19287),\n",
              " ('relaxed', 19286),\n",
              " ('economise', 19285),\n",
              " ('hoop', 19284),\n",
              " ('cock', 19283),\n",
              " ('metrical', 19282),\n",
              " ('aluminum', 19281),\n",
              " ('lagoon', 19280),\n",
              " ('schoolmistress', 19279),\n",
              " ('adoption', 19278),\n",
              " ('hypnotised', 19277),\n",
              " ('nucifera', 19276),\n",
              " ('cocos', 19275),\n",
              " ('antediluvian', 19274),\n",
              " ('herbaceous', 19273),\n",
              " ('diversion', 19272),\n",
              " ('creditworthy', 19271),\n",
              " ('roentgen', 19270),\n",
              " ('explosion', 19269),\n",
              " ('academician', 19268),\n",
              " ('concenter', 19267),\n",
              " ('hoosier', 19266),\n",
              " ('meshing', 19265),\n",
              " ('bask', 19264),\n",
              " ('seashore', 19263),\n",
              " ('marauder', 19262),\n",
              " ('fateful', 19261),\n",
              " ('chirrup', 19260),\n",
              " ('subroutine', 19259),\n",
              " ('bristle', 19258),\n",
              " ('shopworn', 19257),\n",
              " ('moth', 19256),\n",
              " ('warmly', 19255),\n",
              " ('papa', 19254),\n",
              " ('celsius', 19253),\n",
              " ('channelize', 19252),\n",
              " ('wickedness', 19251),\n",
              " ('romanic', 19250),\n",
              " ('fiat', 19249),\n",
              " ('judaic', 19248),\n",
              " ('ail', 19247),\n",
              " ('registry', 19246),\n",
              " ('substantiation', 19245),\n",
              " ('acidulate', 19244),\n",
              " ('soh', 19243),\n",
              " ('retrieval', 19242),\n",
              " ('pipeline', 19241),\n",
              " ('speedy', 19240),\n",
              " ('quran', 19239),\n",
              " ('abide', 19238),\n",
              " ('extend', 19237),\n",
              " ('ovalbumin', 19236),\n",
              " ('fishy', 19235),\n",
              " ('spinning', 19234),\n",
              " ('zippo', 19233),\n",
              " ('payoff', 19232),\n",
              " ('buff', 19231),\n",
              " ('garland', 19230),\n",
              " ('plastered', 19229),\n",
              " ('delectation', 19228),\n",
              " ('exhibition', 19227),\n",
              " ('terrific', 19226),\n",
              " ('fulgens', 19225),\n",
              " ('ailurus', 19224),\n",
              " ('surplusage', 19223),\n",
              " ('essentially', 19222),\n",
              " ('taper', 19221),\n",
              " ('reflexion', 19220),\n",
              " ('accede', 19219),\n",
              " ('apprenticed', 19218),\n",
              " ('leatherneck', 19217),\n",
              " ('ism', 19216),\n",
              " ('nip', 19215),\n",
              " ('bedchamber', 19214),\n",
              " ('abuse', 19213),\n",
              " ('onwards', 19212),\n",
              " ('retentivity', 19211),\n",
              " ('fabrication', 19210),\n",
              " ('migrate', 19209),\n",
              " ('indurate', 19208),\n",
              " ('headway', 19207),\n",
              " ('maintenance', 19206),\n",
              " ('worldly', 19205),\n",
              " ('mantle', 19204),\n",
              " ('hasty', 19203),\n",
              " ('janitor', 19202),\n",
              " ('personate', 19201),\n",
              " ('watercolour', 19200),\n",
              " ('engorge', 19199),\n",
              " ('moss', 19198),\n",
              " ('welter', 19197),\n",
              " ('spicery', 19196),\n",
              " ('vocalism', 19195),\n",
              " ('tourer', 19194),\n",
              " ('securities', 19193),\n",
              " ('taxicab', 19192),\n",
              " ('journalism', 19191),\n",
              " ('radiocommunication', 19190),\n",
              " ('incompetency', 19189),\n",
              " ('peaked', 19188),\n",
              " ('idolise', 19187),\n",
              " ('yesteryear', 19186),\n",
              " ('pappa', 19185),\n",
              " ('gastrointestinal', 19184),\n",
              " ('heeler', 19183),\n",
              " ('perfume', 19182),\n",
              " ('terrace', 19181),\n",
              " ('gleefulness', 19180),\n",
              " ('ternion', 19179),\n",
              " ('surplus', 19178),\n",
              " ('dedication', 19177),\n",
              " ('punter', 19176),\n",
              " ('acknowledgment', 19175),\n",
              " ('immorality', 19174),\n",
              " ('acme', 19173),\n",
              " ('egotism', 19172),\n",
              " ('holmium', 19171),\n",
              " ('whitecap', 19170),\n",
              " ('bagger', 19169),\n",
              " ('fleshy', 19168),\n",
              " ('aerobic', 19167),\n",
              " ('mourn', 19166),\n",
              " ('ingurgitate', 19165),\n",
              " ('insomniac', 19164),\n",
              " ('prater', 19163),\n",
              " ('fixture', 19162),\n",
              " ('motorbus', 19161),\n",
              " ('millimicron', 19160),\n",
              " ('protective', 19159),\n",
              " ('shipwreck', 19158),\n",
              " ('credibly', 19157),\n",
              " ('reelect', 19156),\n",
              " ('sweetness', 19155),\n",
              " ('sine', 19154),\n",
              " ('insouciant', 19153),\n",
              " ('precaution', 19152),\n",
              " ('nervelessness', 19151),\n",
              " ('commemorate', 19150),\n",
              " ('lurk', 19149),\n",
              " ('brook', 19148),\n",
              " ('gymnastic', 19147),\n",
              " ('concealment', 19146),\n",
              " ('trueness', 19145),\n",
              " ('countersign', 19144),\n",
              " ('photographic', 19143),\n",
              " ('suspect', 19142),\n",
              " ('kiang', 19141),\n",
              " ('yangtze', 19140),\n",
              " ('idealist', 19139),\n",
              " ('pip', 19138),\n",
              " ('glorification', 19137),\n",
              " ('epical', 19136),\n",
              " ('bathtub', 19135),\n",
              " ('whizz', 19134),\n",
              " ('heighten', 19133),\n",
              " ('poesy', 19132),\n",
              " ('laboratory', 19131),\n",
              " ('truthful', 19130),\n",
              " ('gewgaw', 19129),\n",
              " ('quantise', 19128),\n",
              " ('jesse', 19127),\n",
              " ('tramp', 19126),\n",
              " ('lucille', 19125),\n",
              " ('facto', 19124),\n",
              " ('shew', 19123),\n",
              " ('beebread', 19122),\n",
              " ('obedience', 19121),\n",
              " ('despicable', 19120),\n",
              " ('tayloe', 19119),\n",
              " ('nellie', 19118),\n",
              " ('voiceless', 19117),\n",
              " ('decline', 19116),\n",
              " ('pitcher', 19115),\n",
              " ('memorise', 19114),\n",
              " ('kangaroo', 19113),\n",
              " ('hypnotism', 19112),\n",
              " ('sitsang', 19111),\n",
              " ('efflorescence', 19110),\n",
              " ('specter', 19109),\n",
              " ('stripper', 19108),\n",
              " ('speck', 19107),\n",
              " ('risible', 19106),\n",
              " ('cataclysm', 19105),\n",
              " ('rook', 19104),\n",
              " ('dispute', 19103),\n",
              " ('injure', 19102),\n",
              " ('notredame', 19101),\n",
              " ('michel', 19100),\n",
              " ('scavenge', 19099),\n",
              " ('planer', 19098),\n",
              " ('destine', 19097),\n",
              " ('ashore', 19096),\n",
              " ('combining', 19095),\n",
              " ('conformation', 19094),\n",
              " ('jubilation', 19093),\n",
              " ('lordly', 19092),\n",
              " ('tungsten', 19091),\n",
              " ('larger', 19090),\n",
              " ('arcdegree', 19089),\n",
              " ('kin', 19088),\n",
              " ('doltishly', 19087),\n",
              " ('delectable', 19086),\n",
              " ('pith', 19085),\n",
              " ('horseshoe', 19084),\n",
              " ('scheol', 19083),\n",
              " ('aboveboard', 19082),\n",
              " ('anyhow', 19081),\n",
              " ('inflate', 19080),\n",
              " ('boulevard', 19079),\n",
              " ('coffeehouse', 19078),\n",
              " ('gauntry', 19077),\n",
              " ('flake', 19076),\n",
              " ('digression', 19075),\n",
              " ('vandalise', 19074),\n",
              " ('assert', 19073),\n",
              " ('evade', 19072),\n",
              " ('regent', 19071),\n",
              " ('omit', 19070),\n",
              " ('gunslinger', 19069),\n",
              " ('ruz', 19068),\n",
              " ('fidel', 19067),\n",
              " ('grump', 19066),\n",
              " ('gore', 19065),\n",
              " ('frighten', 19064),\n",
              " ('aback', 19063),\n",
              " ('portentous', 19062),\n",
              " ('spotting', 19061),\n",
              " ('sporty', 19060),\n",
              " ('harass', 19059),\n",
              " ('expedient', 19058),\n",
              " ('outrank', 19057),\n",
              " ('wretched', 19056),\n",
              " ('domiciliate', 19055),\n",
              " ('anathemize', 19054),\n",
              " ('washer', 19053),\n",
              " ('marian', 19052),\n",
              " ('castling', 19051),\n",
              " ('unimaginable', 19050),\n",
              " ('cautiously', 19049),\n",
              " ('dullard', 19048),\n",
              " ('immortalize', 19047),\n",
              " ('blaze', 19046),\n",
              " ('nursemaid', 19045),\n",
              " ('gloaming', 19044),\n",
              " ('jot', 19043),\n",
              " ('famed', 19042),\n",
              " ('tactual', 19041),\n",
              " ('semisynthetic', 19040),\n",
              " ('coldcock', 19039),\n",
              " ('warmheartedness', 19038),\n",
              " ('mogul', 19037),\n",
              " ('disavowal', 19036),\n",
              " ('oculus', 19035),\n",
              " ('frivolity', 19034),\n",
              " ('maneuver', 19033),\n",
              " ('ascendent', 19032),\n",
              " ('gravid', 19031),\n",
              " ('instrumentalist', 19030),\n",
              " ('tidings', 19029),\n",
              " ('distrust', 19028),\n",
              " ('bedlam', 19027),\n",
              " ('manus', 19026),\n",
              " ('scorpio', 19025),\n",
              " ('blinking', 19024),\n",
              " ('copiousness', 19023),\n",
              " ('advert', 19022),\n",
              " ('nestling', 19021),\n",
              " ('yen', 19020),\n",
              " ('honour', 19019),\n",
              " ('isaac', 19018),\n",
              " ('seated', 19017),\n",
              " ('paginate', 19016),\n",
              " ('retch', 19015),\n",
              " ('upraise', 19014),\n",
              " ('devilment', 19013),\n",
              " ('elias', 19012),\n",
              " ('fermentation', 19011),\n",
              " ('insensate', 19010),\n",
              " ('truster', 19009),\n",
              " ('easing', 19008),\n",
              " ('gracie', 19007),\n",
              " ('evocative', 19006),\n",
              " ('bootleg', 19005),\n",
              " ('secern', 19004),\n",
              " ('filley', 19003),\n",
              " ('dwight', 19002),\n",
              " ('realm', 19001),\n",
              " ('slenderly', 19000),\n",
              " ('volaille', 18999),\n",
              " ('histrion', 18998),\n",
              " ('burgeon', 18997),\n",
              " ('turvydom', 18996),\n",
              " ('topsy', 18995),\n",
              " ('henrik', 18994),\n",
              " ('niels', 18993),\n",
              " ('squat', 18992),\n",
              " ('cypher', 18991),\n",
              " ('furbish', 18990),\n",
              " ('ghostwrite', 18989),\n",
              " ('lozenge', 18988),\n",
              " ('exponent', 18987),\n",
              " ('bingle', 18986),\n",
              " ('wy', 18985),\n",
              " ('presentment', 18984),\n",
              " ('repose', 18983),\n",
              " ('hiss', 18982),\n",
              " ('vaticinator', 18981),\n",
              " ('eastbound', 18980),\n",
              " ('backrest', 18979),\n",
              " ('discolour', 18978),\n",
              " ('intersection', 18977),\n",
              " ('forbearance', 18976),\n",
              " ('indolence', 18975),\n",
              " ('cyclist', 18974),\n",
              " ('vexatious', 18973),\n",
              " ('bioattack', 18972),\n",
              " ('startle', 18971),\n",
              " ('indira', 18970),\n",
              " ('remark', 18969),\n",
              " ('phlebotomise', 18968),\n",
              " ('protestant', 18967),\n",
              " ('saxon', 18966),\n",
              " ('anglo', 18965),\n",
              " ('consultation', 18964),\n",
              " ('nett', 18963),\n",
              " ('winks', 18962),\n",
              " ('rile', 18961),\n",
              " ('arch', 18960),\n",
              " ('abominable', 18959),\n",
              " ('twinge', 18958),\n",
              " ('elicit', 18957),\n",
              " ('focusing', 18956),\n",
              " ('breadstuff', 18955),\n",
              " ('isthmus', 18954),\n",
              " ('euphory', 18953),\n",
              " ('peaceableness', 18952),\n",
              " ('megrims', 18951),\n",
              " ('genf', 18950),\n",
              " ('awing', 18949),\n",
              " ('drone', 18948),\n",
              " ('musculus', 18947),\n",
              " ('resolving', 18946),\n",
              " ('penurious', 18945),\n",
              " ('grueling', 18944),\n",
              " ('qt', 18943),\n",
              " ('seahorse', 18942),\n",
              " ('tending', 18941),\n",
              " ('ensue', 18940),\n",
              " ('garnish', 18939),\n",
              " ('pirogue', 18938),\n",
              " ('possibleness', 18937),\n",
              " ('kampuchea', 18936),\n",
              " ('plunk', 18935),\n",
              " ('abnegate', 18934),\n",
              " ('ledger', 18933),\n",
              " ('impetuously', 18932),\n",
              " ('hershey', 18931),\n",
              " ('snavely', 18930),\n",
              " ('milton', 18929),\n",
              " ('splendid', 18928),\n",
              " ('scold', 18927),\n",
              " ('mayan', 18926),\n",
              " ('moralize', 18925),\n",
              " ('zodiac', 18924),\n",
              " ('marvellous', 18923),\n",
              " ('armor', 18922),\n",
              " ('tedium', 18921),\n",
              " ('quiver', 18920),\n",
              " ('chitchat', 18919),\n",
              " ('shoemakers', 18918),\n",
              " ('tope', 18917),\n",
              " ('cabinet', 18916),\n",
              " ('encompassing', 18915),\n",
              " ('leopold', 18914),\n",
              " ('elmer', 18913),\n",
              " ('rowdy', 18912),\n",
              " ('compaction', 18911),\n",
              " ('misguided', 18910),\n",
              " ('stirring', 18909),\n",
              " ('phlebotomize', 18908),\n",
              " ('perpetrate', 18907),\n",
              " ('squeamish', 18906),\n",
              " ('meretricious', 18905),\n",
              " ('uncommitted', 18904),\n",
              " ('skilful', 18903),\n",
              " ('imposter', 18902),\n",
              " ('futurity', 18901),\n",
              " ('barf', 18900),\n",
              " ('seaport', 18899),\n",
              " ('highschool', 18898),\n",
              " ('aspect', 18897),\n",
              " ('vivify', 18896),\n",
              " ('testicle', 18895),\n",
              " ('journeying', 18894),\n",
              " ('nether', 18893),\n",
              " ('sodbuster', 18892),\n",
              " ('navigation', 18891),\n",
              " ('zephyr', 18890),\n",
              " ('restart', 18889),\n",
              " ('betting', 18888),\n",
              " ('leisurely', 18887),\n",
              " ('intimation', 18886),\n",
              " ('briton', 18885),\n",
              " ('nix', 18884),\n",
              " ('streamlet', 18883),\n",
              " ('receptive', 18882),\n",
              " ('hatful', 18881),\n",
              " ('conduct', 18880),\n",
              " ('elusion', 18879),\n",
              " ('crumple', 18878),\n",
              " ('departure', 18877),\n",
              " ('dissolute', 18876),\n",
              " ('revive', 18875),\n",
              " ('newsworthiness', 18874),\n",
              " ('dynamical', 18873),\n",
              " ('terrestrial', 18872),\n",
              " ('idle', 18871),\n",
              " ('signaling', 18870),\n",
              " ('finis', 18869),\n",
              " ('colossus', 18868),\n",
              " ('utilization', 18867),\n",
              " ('banner', 18866),\n",
              " ('swale', 18865),\n",
              " ('smut', 18864),\n",
              " ('connectedness', 18863),\n",
              " ('minuscule', 18862),\n",
              " ('milksop', 18861),\n",
              " ('expressive', 18860),\n",
              " ('frivol', 18859),\n",
              " ('beano', 18858),\n",
              " ('overbold', 18857),\n",
              " ('calamitous', 18856),\n",
              " ('revoir', 18855),\n",
              " ('sofa', 18854),\n",
              " ('incidentally', 18853),\n",
              " ('unitedly', 18852),\n",
              " ('painkiller', 18851),\n",
              " ('roiled', 18850),\n",
              " ('miniskirt', 18849),\n",
              " ('proponent', 18848),\n",
              " ('incorrectly', 18847),\n",
              " ('concentration', 18846),\n",
              " ('molar', 18845),\n",
              " ('rotted', 18844),\n",
              " ('nurseryman', 18843),\n",
              " ('deservingness', 18842),\n",
              " ('cappuccino', 18841),\n",
              " ('passably', 18840),\n",
              " ('unembellished', 18839),\n",
              " ('modification', 18838),\n",
              " ('cutlet', 18837),\n",
              " ('perspirer', 18836),\n",
              " ('crews', 18835),\n",
              " ('tinge', 18834),\n",
              " ('unwritten', 18833),\n",
              " ('firmness', 18832),\n",
              " ('carpenters', 18831),\n",
              " ('angelical', 18830),\n",
              " ('intermit', 18829),\n",
              " ('adept', 18828),\n",
              " ('uncollectible', 18827),\n",
              " ('hitherto', 18826),\n",
              " ('shroud', 18825),\n",
              " ('stallion', 18824),\n",
              " ('sponge', 18823),\n",
              " ('thriftiness', 18822),\n",
              " ('atonement', 18821),\n",
              " ('booty', 18820),\n",
              " ('bosh', 18819),\n",
              " ('tantamount', 18818),\n",
              " ('lis', 18817),\n",
              " ('fleur', 18816),\n",
              " ('sleuth', 18815),\n",
              " ('intelligibly', 18814),\n",
              " ('disfavor', 18813),\n",
              " ('closelipped', 18812),\n",
              " ('nephew', 18811),\n",
              " ('spiritualist', 18810),\n",
              " ('amusement', 18809),\n",
              " ('clapper', 18808),\n",
              " ('acrobatic', 18807),\n",
              " ('transverse', 18806),\n",
              " ('hullabaloo', 18805),\n",
              " ('analyse', 18804),\n",
              " ('unhurt', 18803),\n",
              " ('vine', 18802),\n",
              " ('sting', 18801),\n",
              " ('thriftlessness', 18800),\n",
              " ('gratuity', 18799),\n",
              " ('videodisc', 18798),\n",
              " ('ramp', 18797),\n",
              " ('corp', 18796),\n",
              " ('calamari', 18795),\n",
              " ('pathological', 18794),\n",
              " ('prat', 18793),\n",
              " ('temblor', 18792),\n",
              " ('flown', 18791),\n",
              " ('nonprofit', 18790),\n",
              " ('watchword', 18789),\n",
              " ('benevolent', 18788),\n",
              " ('authorise', 18787),\n",
              " ('someways', 18786),\n",
              " ('appall', 18785),\n",
              " ('charmer', 18784),\n",
              " ('pyrexia', 18783),\n",
              " ('transfuse', 18782),\n",
              " ('abraham', 18781),\n",
              " ('grouse', 18780),\n",
              " ('arena', 18779),\n",
              " ('earn', 18778),\n",
              " ('rakehell', 18777),\n",
              " ('cogitate', 18776),\n",
              " ('teentsy', 18775),\n",
              " ('nazareth', 18774),\n",
              " ('blooming', 18773),\n",
              " ('braggart', 18772),\n",
              " ('privileged', 18771),\n",
              " ('vino', 18770),\n",
              " ('hotshot', 18769),\n",
              " ('forbid', 18768),\n",
              " ('cryptic', 18767),\n",
              " ('duskiness', 18766),\n",
              " ('advent', 18765),\n",
              " ('transpose', 18764),\n",
              " ('sensitized', 18763),\n",
              " ('bacterium', 18762),\n",
              " ('taipeh', 18761),\n",
              " ('proficiency', 18760),\n",
              " ('illustriousness', 18759),\n",
              " ('toying', 18758),\n",
              " ('cockcrow', 18757),\n",
              " ('persuasiveness', 18756),\n",
              " ('inadequate', 18755),\n",
              " ('guilford', 18754),\n",
              " ('earl', 18753),\n",
              " ('desirable', 18752),\n",
              " ('gerontology', 18751),\n",
              " ('benni', 18750),\n",
              " ('stern', 18749),\n",
              " ('sicilian', 18748),\n",
              " ('automaton', 18747),\n",
              " ('ignite', 18746),\n",
              " ('adulterate', 18745),\n",
              " ('yellowish', 18744),\n",
              " ('deceased', 18743),\n",
              " ('timid', 18742),\n",
              " ('soybean', 18741),\n",
              " ('cured', 18740),\n",
              " ('loftiness', 18739),\n",
              " ('frizzly', 18738),\n",
              " ('brownell', 18737),\n",
              " ('susan', 18736),\n",
              " ('pinkish', 18735),\n",
              " ('perk', 18734),\n",
              " ('maritime', 18733),\n",
              " ('withal', 18732),\n",
              " ('petite', 18731),\n",
              " ('undecipherable', 18730),\n",
              " ('bubbly', 18729),\n",
              " ('utilise', 18728),\n",
              " ('trample', 18727),\n",
              " ('dyad', 18726),\n",
              " ('responsibleness', 18725),\n",
              " ('alibi', 18724),\n",
              " ('comical', 18723),\n",
              " ('spanking', 18722),\n",
              " ('prosecute', 18721),\n",
              " ...]"
            ]
          },
          "metadata": {
            "tags": []
          },
          "execution_count": 26
        }
      ]
    },
    {
      "cell_type": "code",
      "metadata": {
        "colab": {
          "base_uri": "https://localhost:8080/",
          "height": 387
        },
        "id": "Ap89kR0mbSzF",
        "outputId": "947f5a16-95cb-4bb0-e4f4-52f0dbdd6460"
      },
      "source": [
        "counts = []\r\n",
        "df_status = df.drop(['STATUS'], axis=1)\r\n",
        "categories = list(df_status.columns.values)\r\n",
        "for i in categories:\r\n",
        "    counts.append((i, df_status[i].sum()))\r\n",
        "df_stats = pd.DataFrame(counts, columns=['category', 'number_of_comments'])\r\n",
        "\r\n",
        "df_stats.plot(x='category', y='number_of_comments', kind='bar', legend=False, grid=True, figsize=(8, 5))\r\n",
        "plt.title(\"Número de atualizações de status em cada fator\")\r\n",
        "plt.ylabel('# ocorrências', fontsize=12)\r\n",
        "plt.xlabel('fator', fontsize=12)"
      ],
      "execution_count": null,
      "outputs": [
        {
          "output_type": "execute_result",
          "data": {
            "text/plain": [
              "Text(0.5, 0, 'fator')"
            ]
          },
          "metadata": {
            "tags": []
          },
          "execution_count": 24
        },
        {
          "output_type": "display_data",
          "data": {
            "image/png": "[encoded data removed]",
            "text/plain": [
              "<Figure size 576x360 with 1 Axes>"
            ]
          },
          "metadata": {
            "tags": [],
            "needs_background": "light"
          }
        }
      ]
    },
    {
      "cell_type": "code",
      "metadata": {
        "colab": {
          "base_uri": "https://localhost:8080/",
          "height": 424
        },
        "id": "4n2w43dtiQti",
        "outputId": "51bdb69b-bbac-4b3a-fcbf-cd884048a3b5"
      },
      "source": [
        "import seaborn as sns\r\n",
        "\r\n",
        "rowsums = df.iloc[:,2:].sum(axis=1)\r\n",
        "x=rowsums.value_counts()\r\n",
        "#plot\r\n",
        "plt.figure(figsize=(8,5))\r\n",
        "ax = sns.barplot(x.index, x.values)\r\n",
        "plt.title(\"Multiplos fatores por status\")\r\n",
        "plt.ylabel('# de ocorrências', fontsize=12)\r\n",
        "plt.xlabel('# de fatores', fontsize=12)"
      ],
      "execution_count": null,
      "outputs": [
        {
          "output_type": "stream",
          "text": [
            "/usr/local/lib/python3.6/dist-packages/seaborn/_decorators.py:43: FutureWarning: Pass the following variables as keyword args: x, y. From version 0.12, the only valid positional argument will be `data`, and passing other arguments without an explicit keyword will result in an error or misinterpretation.\n",
            "  FutureWarning\n"
          ],
          "name": "stderr"
        },
        {
          "output_type": "execute_result",
          "data": {
            "text/plain": [
              "Text(0.5, 0, '# de fatores')"
            ]
          },
          "metadata": {
            "tags": []
          },
          "execution_count": 27
        },
        {
          "output_type": "display_data",
          "data": {
            "image/png": "[encoded data removed]",
            "text/plain": [
              "<Figure size 576x360 with 1 Axes>"
            ]
          },
          "metadata": {
            "tags": [],
            "needs_background": "light"
          }
        }
      ]
    },
    {
      "cell_type": "code",
      "metadata": {
        "id": "xqz0SwmFisOu"
      },
      "source": [
        "from keras.utils.vis_utils import plot_model\r\n",
        "\r\n",
        "plot_model(model, to_file='model_plot.png', show_shapes=True, show_layer_names=True)"
      ],
      "execution_count": null,
      "outputs": []
    },
    {
      "cell_type": "code",
      "metadata": {
        "id": "jgjOYSALiu7L",
        "colab": {
          "base_uri": "https://localhost:8080/",
          "height": 297
        },
        "outputId": "d7ba62aa-3ebd-4fa0-a5e1-ff0501f5e362"
      },
      "source": [
        "#As we can see, most of the sentence length is about 30+. We could set the \"maxlen\" to about 50, \r\n",
        "#but I'm being paranoid so I have set to 200. \r\n",
        "#Then again, it sounds like something you could experiment and see what is the magic number.\r\n",
        "totalNumWords = [len(one_comment) for one_comment in list_tokenized_train]\r\n",
        "plt.hist(totalNumWords,bins = np.arange(0,410,10))#[0,50,100,150,200,250,300,350,400])#,450,500,550,600,650,700,750,800,850,900])´\r\n",
        "plt.title(\"Número de palavras por sentença\")\r\n",
        "plt.ylabel('# de sentenças', fontsize=12)\r\n",
        "plt.xlabel('# de palavras', fontsize=12)\r\n",
        "plt.show()"
      ],
      "execution_count": null,
      "outputs": [
        {
          "output_type": "display_data",
          "data": {
            "image/png": "[encoded data removed]",
            "text/plain": [
              "<Figure size 432x288 with 1 Axes>"
            ]
          },
          "metadata": {
            "tags": [],
            "needs_background": "light"
          }
        }
      ]
    },
    {
      "cell_type": "code",
      "metadata": {
        "id": "geOzy-1bio0E"
      },
      "source": [
        "from wordcloud import WordCloud, STOPWORDS, ImageColorGenerator\r\n",
        "from PIL import Image\r\n",
        "\r\n",
        "stopwords = set(STOPWORDS)\r\n",
        "stopwords.update([\"propname\"])\r\n",
        "\r\n",
        "text = \" \".join(review for review in df['STATUS'])\r\n",
        "\r\n",
        "wordcloud = WordCloud(background_color=\"black\",\r\n",
        "                      width=1600, height=800).generate(text)\r\n",
        "\r\n",
        "# Display the generated image:\r\n",
        "# the matplotlib way:\r\n",
        "plt.imshow(wordcloud, interpolation='bilinear')\r\n",
        "plt.axis(\"off\")\r\n",
        "plt.show()\r\n",
        "\r\n",
        "wordcloud.to_file(\"wordcloud.png\")"
      ],
      "execution_count": null,
      "outputs": []
    },
    {
      "cell_type": "code",
      "metadata": {
        "id": "Zt8cdjvnooBr",
        "colab": {
          "base_uri": "https://localhost:8080/",
          "height": 295
        },
        "outputId": "09ecac4d-e4c0-4bee-db39-24749814eb98"
      },
      "source": [
        "import matplotlib.pyplot as plt\n",
        "\n",
        "# #accuracy\n",
        "# plt.plot(history.history['accuracy'])\n",
        "# plt.plot(history.history['val_accuracy'])\n",
        "\n",
        "# plt.title('model accuracy')\n",
        "# plt.ylabel('accuracy')\n",
        "# plt.xlabel('epoch')\n",
        "# plt.legend(['train','test'], loc='upper left')\n",
        "# plt.show()\n",
        "\n",
        "\n",
        "# #loss\n",
        "# plt.plot(history.history['loss'])\n",
        "# plt.plot(history.history['val_loss'])\n",
        "\n",
        "# plt.title('model loss')\n",
        "# plt.ylabel('loss')\n",
        "# plt.xlabel('epoch')\n",
        "# plt.legend(['train','test'], loc='upper left')\n",
        "# plt.show()\n",
        "\n",
        "# #auc\n",
        "# plt.plot(history.history['auc'])\n",
        "# plt.plot(history.history['val_auc'])\n",
        "\n",
        "# plt.title('model auc')\n",
        "# plt.ylabel('auc')\n",
        "# plt.xlabel('epoch')\n",
        "# plt.legend(['train','test'], loc='upper left')\n",
        "# plt.show()\n",
        "\n",
        "#precision\n",
        "plt.plot(history.history['precision'])\n",
        "plt.plot(history.history['val_precision'])\n",
        "\n",
        "plt.title('model precision')\n",
        "plt.ylabel('precision')\n",
        "plt.xlabel('epoch')\n",
        "plt.legend(['train','test'], loc='upper left')\n",
        "plt.show()\n",
        "\n",
        "# #recall\n",
        "# plt.plot(history.history['recall'])\n",
        "# plt.plot(history.history['val_recall'])\n",
        "\n",
        "# plt.title('model recall')\n",
        "# plt.ylabel('recall')\n",
        "# plt.xlabel('epoch')\n",
        "# plt.legend(['train','test'], loc='upper left')\n",
        "# plt.show()"
      ],
      "execution_count": 27,
      "outputs": [
        {
          "output_type": "display_data",
          "data": {
            "image/png": "[encoded data removed]",
            "text/plain": [
              "<Figure size 432x288 with 1 Axes>"
            ]
          },
          "metadata": {
            "tags": [],
            "needs_background": "light"
          }
        }
      ]
    },
    {
      "cell_type": "code",
      "metadata": {
        "id": "3wUYnaxVhSRA",
        "colab": {
          "base_uri": "https://localhost:8080/",
          "height": 345
        },
        "outputId": "c8330821-cf35-46f5-c3b7-371cdfff25de"
      },
      "source": [
        "# from keras.models import load_model\n",
        "# model.save(\"model.h5\")\n",
        "saved_model = load_model('model.h5')"
      ],
      "execution_count": 34,
      "outputs": [
        {
          "output_type": "error",
          "ename": "ValueError",
          "evalue": "ignored",
          "traceback": [
            "\u001b[0;31m---------------------------------------------------------------------------\u001b[0m",
            "\u001b[0;31mValueError\u001b[0m                                Traceback (most recent call last)",
            "\u001b[0;32m<ipython-input-34-338fc259af06>\u001b[0m in \u001b[0;36m<module>\u001b[0;34m()\u001b[0m\n\u001b[1;32m      1\u001b[0m \u001b[0;31m# from keras.models import load_model\u001b[0m\u001b[0;34m\u001b[0m\u001b[0;34m\u001b[0m\u001b[0;34m\u001b[0m\u001b[0m\n\u001b[1;32m      2\u001b[0m \u001b[0;31m# model.save(\"model.h5\")\u001b[0m\u001b[0;34m\u001b[0m\u001b[0;34m\u001b[0m\u001b[0;34m\u001b[0m\u001b[0m\n\u001b[0;32m----> 3\u001b[0;31m \u001b[0msaved_model\u001b[0m \u001b[0;34m=\u001b[0m \u001b[0mload_model\u001b[0m\u001b[0;34m(\u001b[0m\u001b[0;34m'model.h5'\u001b[0m\u001b[0;34m)\u001b[0m\u001b[0;34m\u001b[0m\u001b[0;34m\u001b[0m\u001b[0m\n\u001b[0m",
            "\u001b[0;32m/tensorflow-1.15.2/python3.6/keras/engine/saving.py\u001b[0m in \u001b[0;36mload_wrapper\u001b[0;34m(*args, **kwargs)\u001b[0m\n\u001b[1;32m    490\u001b[0m                 \u001b[0mos\u001b[0m\u001b[0;34m.\u001b[0m\u001b[0mremove\u001b[0m\u001b[0;34m(\u001b[0m\u001b[0mtmp_filepath\u001b[0m\u001b[0;34m)\u001b[0m\u001b[0;34m\u001b[0m\u001b[0;34m\u001b[0m\u001b[0m\n\u001b[1;32m    491\u001b[0m             \u001b[0;32mreturn\u001b[0m \u001b[0mres\u001b[0m\u001b[0;34m\u001b[0m\u001b[0;34m\u001b[0m\u001b[0m\n\u001b[0;32m--> 492\u001b[0;31m         \u001b[0;32mreturn\u001b[0m \u001b[0mload_function\u001b[0m\u001b[0;34m(\u001b[0m\u001b[0;34m*\u001b[0m\u001b[0margs\u001b[0m\u001b[0;34m,\u001b[0m \u001b[0;34m**\u001b[0m\u001b[0mkwargs\u001b[0m\u001b[0;34m)\u001b[0m\u001b[0;34m\u001b[0m\u001b[0;34m\u001b[0m\u001b[0m\n\u001b[0m\u001b[1;32m    493\u001b[0m \u001b[0;34m\u001b[0m\u001b[0m\n\u001b[1;32m    494\u001b[0m     \u001b[0;32mreturn\u001b[0m \u001b[0mload_wrapper\u001b[0m\u001b[0;34m\u001b[0m\u001b[0;34m\u001b[0m\u001b[0m\n",
            "\u001b[0;32m/tensorflow-1.15.2/python3.6/keras/engine/saving.py\u001b[0m in \u001b[0;36mload_model\u001b[0;34m(filepath, custom_objects, compile)\u001b[0m\n\u001b[1;32m    582\u001b[0m     \u001b[0;32mif\u001b[0m \u001b[0mH5Dict\u001b[0m\u001b[0;34m.\u001b[0m\u001b[0mis_supported_type\u001b[0m\u001b[0;34m(\u001b[0m\u001b[0mfilepath\u001b[0m\u001b[0;34m)\u001b[0m\u001b[0;34m:\u001b[0m\u001b[0;34m\u001b[0m\u001b[0;34m\u001b[0m\u001b[0m\n\u001b[1;32m    583\u001b[0m         \u001b[0;32mwith\u001b[0m \u001b[0mH5Dict\u001b[0m\u001b[0;34m(\u001b[0m\u001b[0mfilepath\u001b[0m\u001b[0;34m,\u001b[0m \u001b[0mmode\u001b[0m\u001b[0;34m=\u001b[0m\u001b[0;34m'r'\u001b[0m\u001b[0;34m)\u001b[0m \u001b[0;32mas\u001b[0m \u001b[0mh5dict\u001b[0m\u001b[0;34m:\u001b[0m\u001b[0;34m\u001b[0m\u001b[0;34m\u001b[0m\u001b[0m\n\u001b[0;32m--> 584\u001b[0;31m             \u001b[0mmodel\u001b[0m \u001b[0;34m=\u001b[0m \u001b[0m_deserialize_model\u001b[0m\u001b[0;34m(\u001b[0m\u001b[0mh5dict\u001b[0m\u001b[0;34m,\u001b[0m \u001b[0mcustom_objects\u001b[0m\u001b[0;34m,\u001b[0m \u001b[0mcompile\u001b[0m\u001b[0;34m)\u001b[0m\u001b[0;34m\u001b[0m\u001b[0;34m\u001b[0m\u001b[0m\n\u001b[0m\u001b[1;32m    585\u001b[0m     \u001b[0;32melif\u001b[0m \u001b[0mhasattr\u001b[0m\u001b[0;34m(\u001b[0m\u001b[0mfilepath\u001b[0m\u001b[0;34m,\u001b[0m \u001b[0;34m'write'\u001b[0m\u001b[0;34m)\u001b[0m \u001b[0;32mand\u001b[0m \u001b[0mcallable\u001b[0m\u001b[0;34m(\u001b[0m\u001b[0mfilepath\u001b[0m\u001b[0;34m.\u001b[0m\u001b[0mwrite\u001b[0m\u001b[0;34m)\u001b[0m\u001b[0;34m:\u001b[0m\u001b[0;34m\u001b[0m\u001b[0;34m\u001b[0m\u001b[0m\n\u001b[1;32m    586\u001b[0m         \u001b[0;32mdef\u001b[0m \u001b[0mload_function\u001b[0m\u001b[0;34m(\u001b[0m\u001b[0mh5file\u001b[0m\u001b[0;34m)\u001b[0m\u001b[0;34m:\u001b[0m\u001b[0;34m\u001b[0m\u001b[0;34m\u001b[0m\u001b[0m\n",
            "\u001b[0;32m/tensorflow-1.15.2/python3.6/keras/engine/saving.py\u001b[0m in \u001b[0;36m_deserialize_model\u001b[0;34m(h5dict, custom_objects, compile)\u001b[0m\n\u001b[1;32m    367\u001b[0m                       \u001b[0mweighted_metrics\u001b[0m\u001b[0;34m=\u001b[0m\u001b[0mweighted_metrics\u001b[0m\u001b[0;34m,\u001b[0m\u001b[0;34m\u001b[0m\u001b[0;34m\u001b[0m\u001b[0m\n\u001b[1;32m    368\u001b[0m                       \u001b[0mloss_weights\u001b[0m\u001b[0;34m=\u001b[0m\u001b[0mloss_weights\u001b[0m\u001b[0;34m,\u001b[0m\u001b[0;34m\u001b[0m\u001b[0;34m\u001b[0m\u001b[0m\n\u001b[0;32m--> 369\u001b[0;31m                       sample_weight_mode=sample_weight_mode)\n\u001b[0m\u001b[1;32m    370\u001b[0m \u001b[0;34m\u001b[0m\u001b[0m\n\u001b[1;32m    371\u001b[0m         \u001b[0;31m# Set optimizer weights.\u001b[0m\u001b[0;34m\u001b[0m\u001b[0;34m\u001b[0m\u001b[0;34m\u001b[0m\u001b[0m\n",
            "\u001b[0;32m/tensorflow-1.15.2/python3.6/keras/engine/training.py\u001b[0m in \u001b[0;36mcompile\u001b[0;34m(self, optimizer, loss, metrics, loss_weights, sample_weight_mode, weighted_metrics, target_tensors, **kwargs)\u001b[0m\n\u001b[1;32m    209\u001b[0m \u001b[0;34m\u001b[0m\u001b[0m\n\u001b[1;32m    210\u001b[0m         \u001b[0;31m# Save all metric attributes per output of the model.\u001b[0m\u001b[0;34m\u001b[0m\u001b[0;34m\u001b[0m\u001b[0;34m\u001b[0m\u001b[0m\n\u001b[0;32m--> 211\u001b[0;31m         \u001b[0mself\u001b[0m\u001b[0;34m.\u001b[0m\u001b[0m_cache_output_metric_attributes\u001b[0m\u001b[0;34m(\u001b[0m\u001b[0mmetrics\u001b[0m\u001b[0;34m,\u001b[0m \u001b[0mweighted_metrics\u001b[0m\u001b[0;34m)\u001b[0m\u001b[0;34m\u001b[0m\u001b[0;34m\u001b[0m\u001b[0m\n\u001b[0m\u001b[1;32m    212\u001b[0m \u001b[0;34m\u001b[0m\u001b[0m\n\u001b[1;32m    213\u001b[0m         \u001b[0;31m# Set metric attributes on model.\u001b[0m\u001b[0;34m\u001b[0m\u001b[0;34m\u001b[0m\u001b[0;34m\u001b[0m\u001b[0m\n",
            "\u001b[0;32m/tensorflow-1.15.2/python3.6/keras/engine/training.py\u001b[0m in \u001b[0;36m_cache_output_metric_attributes\u001b[0;34m(self, metrics, weighted_metrics)\u001b[0m\n\u001b[1;32m    736\u001b[0m                 \u001b[0moutput_shapes\u001b[0m\u001b[0;34m.\u001b[0m\u001b[0mappend\u001b[0m\u001b[0;34m(\u001b[0m\u001b[0mlist\u001b[0m\u001b[0;34m(\u001b[0m\u001b[0moutput\u001b[0m\u001b[0;34m.\u001b[0m\u001b[0mshape\u001b[0m\u001b[0;34m)\u001b[0m\u001b[0;34m)\u001b[0m\u001b[0;34m\u001b[0m\u001b[0;34m\u001b[0m\u001b[0m\n\u001b[1;32m    737\u001b[0m         self._per_output_metrics = training_utils.collect_per_output_metric_info(\n\u001b[0;32m--> 738\u001b[0;31m             metrics, self.output_names, output_shapes, self.loss_functions)\n\u001b[0m\u001b[1;32m    739\u001b[0m         self._per_output_weighted_metrics = (\n\u001b[1;32m    740\u001b[0m             training_utils.collect_per_output_metric_info(\n",
            "\u001b[0;32m/tensorflow-1.15.2/python3.6/keras/engine/training_utils.py\u001b[0m in \u001b[0;36mcollect_per_output_metric_info\u001b[0;34m(metrics, output_names, output_shapes, loss_fns, is_weighted)\u001b[0m\n\u001b[1;32m    939\u001b[0m         \u001b[0mmetrics_dict\u001b[0m \u001b[0;34m=\u001b[0m \u001b[0mOrderedDict\u001b[0m\u001b[0;34m(\u001b[0m\u001b[0;34m)\u001b[0m\u001b[0;34m\u001b[0m\u001b[0;34m\u001b[0m\u001b[0m\n\u001b[1;32m    940\u001b[0m         \u001b[0;32mfor\u001b[0m \u001b[0mmetric\u001b[0m \u001b[0;32min\u001b[0m \u001b[0mmetrics\u001b[0m\u001b[0;34m:\u001b[0m\u001b[0;34m\u001b[0m\u001b[0;34m\u001b[0m\u001b[0m\n\u001b[0;32m--> 941\u001b[0;31m             \u001b[0mmetric_name\u001b[0m \u001b[0;34m=\u001b[0m \u001b[0mget_metric_name\u001b[0m\u001b[0;34m(\u001b[0m\u001b[0mmetric\u001b[0m\u001b[0;34m,\u001b[0m \u001b[0mis_weighted\u001b[0m\u001b[0;34m)\u001b[0m\u001b[0;34m\u001b[0m\u001b[0;34m\u001b[0m\u001b[0m\n\u001b[0m\u001b[1;32m    942\u001b[0m             metric_fn = get_metric_function(\n\u001b[1;32m    943\u001b[0m                 metric, output_shape=output_shapes[i], loss_fn=loss_fns[i])\n",
            "\u001b[0;32m/tensorflow-1.15.2/python3.6/keras/engine/training_utils.py\u001b[0m in \u001b[0;36mget_metric_name\u001b[0;34m(metric, weighted)\u001b[0m\n\u001b[1;32m    967\u001b[0m         \u001b[0;32mreturn\u001b[0m \u001b[0mmetric\u001b[0m\u001b[0;34m\u001b[0m\u001b[0;34m\u001b[0m\u001b[0m\n\u001b[1;32m    968\u001b[0m \u001b[0;34m\u001b[0m\u001b[0m\n\u001b[0;32m--> 969\u001b[0;31m     \u001b[0mmetric\u001b[0m \u001b[0;34m=\u001b[0m \u001b[0mmetrics_module\u001b[0m\u001b[0;34m.\u001b[0m\u001b[0mget\u001b[0m\u001b[0;34m(\u001b[0m\u001b[0mmetric\u001b[0m\u001b[0;34m)\u001b[0m\u001b[0;34m\u001b[0m\u001b[0;34m\u001b[0m\u001b[0m\n\u001b[0m\u001b[1;32m    970\u001b[0m     \u001b[0;32mreturn\u001b[0m \u001b[0mmetric\u001b[0m\u001b[0;34m.\u001b[0m\u001b[0mname\u001b[0m \u001b[0;32mif\u001b[0m \u001b[0mhasattr\u001b[0m\u001b[0;34m(\u001b[0m\u001b[0mmetric\u001b[0m\u001b[0;34m,\u001b[0m \u001b[0;34m'name'\u001b[0m\u001b[0;34m)\u001b[0m \u001b[0;32melse\u001b[0m \u001b[0mmetric\u001b[0m\u001b[0;34m.\u001b[0m\u001b[0m__name__\u001b[0m\u001b[0;34m\u001b[0m\u001b[0;34m\u001b[0m\u001b[0m\n\u001b[1;32m    971\u001b[0m \u001b[0;34m\u001b[0m\u001b[0m\n",
            "\u001b[0;32m/tensorflow-1.15.2/python3.6/keras/metrics.py\u001b[0m in \u001b[0;36mget\u001b[0;34m(identifier)\u001b[0m\n\u001b[1;32m   1974\u001b[0m     \u001b[0;32mif\u001b[0m \u001b[0misinstance\u001b[0m\u001b[0;34m(\u001b[0m\u001b[0midentifier\u001b[0m\u001b[0;34m,\u001b[0m \u001b[0mdict\u001b[0m\u001b[0;34m)\u001b[0m\u001b[0;34m:\u001b[0m\u001b[0;34m\u001b[0m\u001b[0;34m\u001b[0m\u001b[0m\n\u001b[1;32m   1975\u001b[0m         \u001b[0mconfig\u001b[0m \u001b[0;34m=\u001b[0m \u001b[0;34m{\u001b[0m\u001b[0;34m'class_name'\u001b[0m\u001b[0;34m:\u001b[0m \u001b[0mstr\u001b[0m\u001b[0;34m(\u001b[0m\u001b[0midentifier\u001b[0m\u001b[0;34m)\u001b[0m\u001b[0;34m,\u001b[0m \u001b[0;34m'config'\u001b[0m\u001b[0;34m:\u001b[0m \u001b[0;34m{\u001b[0m\u001b[0;34m}\u001b[0m\u001b[0;34m}\u001b[0m\u001b[0;34m\u001b[0m\u001b[0;34m\u001b[0m\u001b[0m\n\u001b[0;32m-> 1976\u001b[0;31m         \u001b[0;32mreturn\u001b[0m \u001b[0mdeserialize\u001b[0m\u001b[0;34m(\u001b[0m\u001b[0mconfig\u001b[0m\u001b[0;34m)\u001b[0m\u001b[0;34m\u001b[0m\u001b[0;34m\u001b[0m\u001b[0m\n\u001b[0m\u001b[1;32m   1977\u001b[0m     \u001b[0;32melif\u001b[0m \u001b[0misinstance\u001b[0m\u001b[0;34m(\u001b[0m\u001b[0midentifier\u001b[0m\u001b[0;34m,\u001b[0m \u001b[0msix\u001b[0m\u001b[0;34m.\u001b[0m\u001b[0mstring_types\u001b[0m\u001b[0;34m)\u001b[0m\u001b[0;34m:\u001b[0m\u001b[0;34m\u001b[0m\u001b[0;34m\u001b[0m\u001b[0m\n\u001b[1;32m   1978\u001b[0m         \u001b[0;32mreturn\u001b[0m \u001b[0mdeserialize\u001b[0m\u001b[0;34m(\u001b[0m\u001b[0mstr\u001b[0m\u001b[0;34m(\u001b[0m\u001b[0midentifier\u001b[0m\u001b[0;34m)\u001b[0m\u001b[0;34m)\u001b[0m\u001b[0;34m\u001b[0m\u001b[0;34m\u001b[0m\u001b[0m\n",
            "\u001b[0;32m/tensorflow-1.15.2/python3.6/keras/metrics.py\u001b[0m in \u001b[0;36mdeserialize\u001b[0;34m(config, custom_objects)\u001b[0m\n\u001b[1;32m   1968\u001b[0m                                     \u001b[0mmodule_objects\u001b[0m\u001b[0;34m=\u001b[0m\u001b[0mglobals\u001b[0m\u001b[0;34m(\u001b[0m\u001b[0;34m)\u001b[0m\u001b[0;34m,\u001b[0m\u001b[0;34m\u001b[0m\u001b[0;34m\u001b[0m\u001b[0m\n\u001b[1;32m   1969\u001b[0m                                     \u001b[0mcustom_objects\u001b[0m\u001b[0;34m=\u001b[0m\u001b[0mcustom_objects\u001b[0m\u001b[0;34m,\u001b[0m\u001b[0;34m\u001b[0m\u001b[0;34m\u001b[0m\u001b[0m\n\u001b[0;32m-> 1970\u001b[0;31m                                     printable_module_name='metric function')\n\u001b[0m\u001b[1;32m   1971\u001b[0m \u001b[0;34m\u001b[0m\u001b[0m\n\u001b[1;32m   1972\u001b[0m \u001b[0;34m\u001b[0m\u001b[0m\n",
            "\u001b[0;32m/tensorflow-1.15.2/python3.6/keras/utils/generic_utils.py\u001b[0m in \u001b[0;36mdeserialize_keras_object\u001b[0;34m(identifier, module_objects, custom_objects, printable_module_name)\u001b[0m\n\u001b[1;32m    138\u001b[0m             \u001b[0;32mif\u001b[0m \u001b[0mcls\u001b[0m \u001b[0;32mis\u001b[0m \u001b[0;32mNone\u001b[0m\u001b[0;34m:\u001b[0m\u001b[0;34m\u001b[0m\u001b[0;34m\u001b[0m\u001b[0m\n\u001b[1;32m    139\u001b[0m                 raise ValueError('Unknown ' + printable_module_name +\n\u001b[0;32m--> 140\u001b[0;31m                                  ': ' + class_name)\n\u001b[0m\u001b[1;32m    141\u001b[0m         \u001b[0;32mif\u001b[0m \u001b[0mhasattr\u001b[0m\u001b[0;34m(\u001b[0m\u001b[0mcls\u001b[0m\u001b[0;34m,\u001b[0m \u001b[0;34m'from_config'\u001b[0m\u001b[0;34m)\u001b[0m\u001b[0;34m:\u001b[0m\u001b[0;34m\u001b[0m\u001b[0;34m\u001b[0m\u001b[0m\n\u001b[1;32m    142\u001b[0m             \u001b[0mcustom_objects\u001b[0m \u001b[0;34m=\u001b[0m \u001b[0mcustom_objects\u001b[0m \u001b[0;32mor\u001b[0m \u001b[0;34m{\u001b[0m\u001b[0;34m}\u001b[0m\u001b[0;34m\u001b[0m\u001b[0;34m\u001b[0m\u001b[0m\n",
            "\u001b[0;31mValueError\u001b[0m: Unknown metric function: {'class_name': 'Precision', 'config': {'name': 'precision', 'dtype': 'float32', 'thresholds': None, 'top_k': None, 'class_id': None}}"
          ]
        }
      ]
    },
    {
      "cell_type": "code",
      "metadata": {
        "id": "YsLWing-TZWz"
      },
      "source": [
        "#df"
      ],
      "execution_count": null,
      "outputs": []
    },
    {
      "cell_type": "code",
      "metadata": {
        "id": "Zd0TBv7_hVh6"
      },
      "source": [
        "traits_labels = df[[\"cEXT\", \"cNEU\", \"cAGR\", \"cCON\", \"cOPN\"]]\n",
        "\n",
        "\n",
        "fig_size = plt.rcParams[\"figure.figsize\"]\n",
        "fig_size[0] = 10\n",
        "fig_size[1] = 8\n",
        "plt.rcParams[\"figure.figsize\"] = fig_size\n",
        "\n",
        "traits_labels.sum(axis=0).plot.bar()"
      ],
      "execution_count": null,
      "outputs": []
    },
    {
      "cell_type": "code",
      "metadata": {
        "id": "6IsCBLJ-hWcw"
      },
      "source": [
        "predictions = model.predict(np.expand_dims(X_test[500], 0))\n",
        "\n",
        "print(tokenizer.sequences_to_texts([X_test[500]]))\n",
        "print(y_test[500])\n",
        "print(predictions)"
      ],
      "execution_count": null,
      "outputs": []
    },
    {
      "cell_type": "code",
      "metadata": {
        "id": "hh8NraOxD85G",
        "colab": {
          "base_uri": "https://localhost:8080/",
          "height": 1000
        },
        "outputId": "03224c69-784d-4c2b-929a-ac7ef60d0fc1"
      },
      "source": [
        "from keras.utils import plot_model\n",
        "plot_model(model, to_file='model_plot4a.png', show_shapes=True, show_layer_names=True)"
      ],
      "execution_count": 22,
      "outputs": [
        {
          "output_type": "execute_result",
          "data": {
            "image/png": "[encoded data removed]",
            "text/plain": [
              "<IPython.core.display.Image object>"
            ]
          },
          "metadata": {
            "tags": []
          },
          "execution_count": 22
        }
      ]
    },
    {
      "cell_type": "code",
      "metadata": {
        "id": "biUorzoqlPxQ"
      },
      "source": [
        "#One possibility: If you are using dropout regularization layer in your network, it is reasonable that the validation error is smaller than training error. Because usually dropout is activated when training but deactivated when evaluating on the validation set. You get a more smooth (usually means better) function in the latter case."
      ],
      "execution_count": null,
      "outputs": []
    }
  ]
}